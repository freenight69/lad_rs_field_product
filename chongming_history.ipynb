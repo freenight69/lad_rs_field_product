{
 "cells": [
  {
   "cell_type": "code",
   "execution_count": 1,
   "metadata": {},
   "outputs": [
    {
     "name": "stdout",
     "output_type": "stream",
     "text": [
      "Downloading image in chongming on 20230103:\n"
     ]
    },
    {
     "data": {
      "application/vnd.jupyter.widget-view+json": {
       "model_id": "c8d3f8d7ce584c3c987277c3976b5151",
       "version_major": 2,
       "version_minor": 0
      },
      "text/plain": [
       "chongming_DT_ZS_20230103.tif: |          | 0.00/2.87M (raw) [  0.0%] in 00:00 (eta:     ?)"
      ]
     },
     "metadata": {},
     "output_type": "display_data"
    },
    {
     "name": "stderr",
     "output_type": "stream",
     "text": [
      "There is no STAC entry for: None\n"
     ]
    },
    {
     "name": "stdout",
     "output_type": "stream",
     "text": [
      "Downloading image in chongming on 20230108:\n"
     ]
    },
    {
     "data": {
      "application/vnd.jupyter.widget-view+json": {
       "model_id": "d2191d1faff842fdbdfc948f13ee1a92",
       "version_major": 2,
       "version_minor": 0
      },
      "text/plain": [
       "chongming_DT_ZS_20230108.tif: |          | 0.00/2.87M (raw) [  0.0%] in 00:00 (eta:     ?)"
      ]
     },
     "metadata": {},
     "output_type": "display_data"
    },
    {
     "name": "stdout",
     "output_type": "stream",
     "text": [
      "Downloading image in chongming on 20230118:\n"
     ]
    },
    {
     "data": {
      "application/vnd.jupyter.widget-view+json": {
       "model_id": "578ecbd985ff4a81b44e3dc370f3d253",
       "version_major": 2,
       "version_minor": 0
      },
      "text/plain": [
       "chongming_DT_ZS_20230118.tif: |          | 0.00/2.87M (raw) [  0.0%] in 00:00 (eta:     ?)"
      ]
     },
     "metadata": {},
     "output_type": "display_data"
    },
    {
     "name": "stdout",
     "output_type": "stream",
     "text": [
      "Downloading image in chongming on 20230128:\n"
     ]
    },
    {
     "data": {
      "application/vnd.jupyter.widget-view+json": {
       "model_id": "49a92edb5e1c44bd8324d4a00d443b17",
       "version_major": 2,
       "version_minor": 0
      },
      "text/plain": [
       "chongming_DT_ZS_20230128.tif: |          | 0.00/2.87M (raw) [  0.0%] in 00:00 (eta:     ?)"
      ]
     },
     "metadata": {},
     "output_type": "display_data"
    },
    {
     "name": "stdout",
     "output_type": "stream",
     "text": [
      "Downloading image in chongming on 20230227:\n"
     ]
    },
    {
     "data": {
      "application/vnd.jupyter.widget-view+json": {
       "model_id": "e8f62e25b8a44492a4c4d3d4a8abb1f1",
       "version_major": 2,
       "version_minor": 0
      },
      "text/plain": [
       "chongming_DT_ZS_20230227.tif: |          | 0.00/2.87M (raw) [  0.0%] in 00:00 (eta:     ?)"
      ]
     },
     "metadata": {},
     "output_type": "display_data"
    },
    {
     "name": "stdout",
     "output_type": "stream",
     "text": [
      "Downloading image in chongming on 20230304:\n"
     ]
    },
    {
     "data": {
      "application/vnd.jupyter.widget-view+json": {
       "model_id": "2c8a8bbf035c4c29be5d555de87fa541",
       "version_major": 2,
       "version_minor": 0
      },
      "text/plain": [
       "chongming_DT_ZS_20230304.tif: |          | 0.00/2.87M (raw) [  0.0%] in 00:00 (eta:     ?)"
      ]
     },
     "metadata": {},
     "output_type": "display_data"
    },
    {
     "name": "stdout",
     "output_type": "stream",
     "text": [
      "Downloading image in chongming on 20230309:\n"
     ]
    },
    {
     "data": {
      "application/vnd.jupyter.widget-view+json": {
       "model_id": "584d21f059b34fa194cae35d3f29f14b",
       "version_major": 2,
       "version_minor": 0
      },
      "text/plain": [
       "chongming_DT_ZS_20230309.tif: |          | 0.00/2.87M (raw) [  0.0%] in 00:00 (eta:     ?)"
      ]
     },
     "metadata": {},
     "output_type": "display_data"
    },
    {
     "name": "stdout",
     "output_type": "stream",
     "text": [
      "Downloading image in chongming on 20230314:\n"
     ]
    },
    {
     "data": {
      "application/vnd.jupyter.widget-view+json": {
       "model_id": "7d27ae002cf04450a0b3421b428a407c",
       "version_major": 2,
       "version_minor": 0
      },
      "text/plain": [
       "chongming_DT_ZS_20230314.tif: |          | 0.00/2.87M (raw) [  0.0%] in 00:00 (eta:     ?)"
      ]
     },
     "metadata": {},
     "output_type": "display_data"
    },
    {
     "name": "stdout",
     "output_type": "stream",
     "text": [
      "Downloading image in chongming on 20230403:\n"
     ]
    },
    {
     "data": {
      "application/vnd.jupyter.widget-view+json": {
       "model_id": "4e431aa6d8244a35ab944ead7ff20abe",
       "version_major": 2,
       "version_minor": 0
      },
      "text/plain": [
       "chongming_DT_ZS_20230403.tif: |          | 0.00/2.87M (raw) [  0.0%] in 00:00 (eta:     ?)"
      ]
     },
     "metadata": {},
     "output_type": "display_data"
    },
    {
     "name": "stdout",
     "output_type": "stream",
     "text": [
      "Downloading image in chongming on 20230408:\n"
     ]
    },
    {
     "data": {
      "application/vnd.jupyter.widget-view+json": {
       "model_id": "2896b54685b5412d9daa7e57c55b0fd2",
       "version_major": 2,
       "version_minor": 0
      },
      "text/plain": [
       "chongming_DT_ZS_20230408.tif: |          | 0.00/2.87M (raw) [  0.0%] in 00:00 (eta:     ?)"
      ]
     },
     "metadata": {},
     "output_type": "display_data"
    },
    {
     "name": "stdout",
     "output_type": "stream",
     "text": [
      "Downloading image in chongming on 20230413:\n"
     ]
    },
    {
     "data": {
      "application/vnd.jupyter.widget-view+json": {
       "model_id": "4548f021de92468181e45b3d1e358ac5",
       "version_major": 2,
       "version_minor": 0
      },
      "text/plain": [
       "chongming_DT_ZS_20230413.tif: |          | 0.00/2.87M (raw) [  0.0%] in 00:00 (eta:     ?)"
      ]
     },
     "metadata": {},
     "output_type": "display_data"
    },
    {
     "name": "stdout",
     "output_type": "stream",
     "text": [
      "Downloading image in chongming on 20230428:\n"
     ]
    },
    {
     "data": {
      "application/vnd.jupyter.widget-view+json": {
       "model_id": "3665ab5649f943639837b8424b3370f1",
       "version_major": 2,
       "version_minor": 0
      },
      "text/plain": [
       "chongming_DT_ZS_20230428.tif: |          | 0.00/2.87M (raw) [  0.0%] in 00:00 (eta:     ?)"
      ]
     },
     "metadata": {},
     "output_type": "display_data"
    },
    {
     "name": "stdout",
     "output_type": "stream",
     "text": [
      "Downloading image in chongming on 20230508:\n"
     ]
    },
    {
     "data": {
      "application/vnd.jupyter.widget-view+json": {
       "model_id": "dee8194163f84a4f853a46196bc6ca57",
       "version_major": 2,
       "version_minor": 0
      },
      "text/plain": [
       "chongming_DT_ZS_20230508.tif: |          | 0.00/2.87M (raw) [  0.0%] in 00:00 (eta:     ?)"
      ]
     },
     "metadata": {},
     "output_type": "display_data"
    },
    {
     "name": "stdout",
     "output_type": "stream",
     "text": [
      "Downloading image in chongming on 20230513:\n"
     ]
    },
    {
     "data": {
      "application/vnd.jupyter.widget-view+json": {
       "model_id": "6d23733b1f9a47c0b3754f42eda186f5",
       "version_major": 2,
       "version_minor": 0
      },
      "text/plain": [
       "chongming_DT_ZS_20230513.tif: |          | 0.00/2.87M (raw) [  0.0%] in 00:00 (eta:     ?)"
      ]
     },
     "metadata": {},
     "output_type": "display_data"
    },
    {
     "name": "stdout",
     "output_type": "stream",
     "text": [
      "Downloading image in chongming on 20230523:\n"
     ]
    },
    {
     "data": {
      "application/vnd.jupyter.widget-view+json": {
       "model_id": "e017a90903b747a29a43e5096c9d30b0",
       "version_major": 2,
       "version_minor": 0
      },
      "text/plain": [
       "chongming_DT_ZS_20230523.tif: |          | 0.00/2.87M (raw) [  0.0%] in 00:00 (eta:     ?)"
      ]
     },
     "metadata": {},
     "output_type": "display_data"
    },
    {
     "name": "stdout",
     "output_type": "stream",
     "text": [
      "Downloading image in chongming on 20230528:\n"
     ]
    },
    {
     "data": {
      "application/vnd.jupyter.widget-view+json": {
       "model_id": "b513637ca64d4593a2bc5a7072826c92",
       "version_major": 2,
       "version_minor": 0
      },
      "text/plain": [
       "chongming_DT_ZS_20230528.tif: |          | 0.00/2.87M (raw) [  0.0%] in 00:00 (eta:     ?)"
      ]
     },
     "metadata": {},
     "output_type": "display_data"
    }
   ],
   "source": [
    "#!/usr/bin/env python\n",
    "# -*- coding: utf-8 -*-\n",
    "\"\"\"\n",
    "File: s2_test.py\n",
    "Version: v1.0\n",
    "Date: 2023-02-09\n",
    "Authors: Chen G.\n",
    "Description: This script creates downloading and processing Sentinel-2 images based on Google Earth Engine.\n",
    "License: This code is distributed under the MIT License.\n",
    "\n",
    "    Parameter:\n",
    "        START_DATE: The earliest date to include images for (inclusive).\n",
    "        END_DATE: The latest date to include images for (exclusive).\n",
    "        BANDS: The Sentinel-2 image bands to select for processing.\n",
    "        ROI: The boundry to select for processing.\n",
    "        MAX_CLOUD_PROBABILITY: (Optional) cloud cover percentage to apply s2 image collection filter.\n",
    "        CAL_NDVI: (Optional) calculate the Normalized Difference Vegetation Index (NDVI) from multiband s2 images.\n",
    "        CAL_NDMI: (Optional) calculate the Normalized Difference Moisture Index (NDMI) from multiband s2 images.\n",
    "        CLIP_TO_ROI: (Optional) clip the processed image to the region of interest.\n",
    "        SAVE_ASSETS : (Optional) exports the processed collection to an asset.\n",
    "        ASSET_ID : (Optional) the user id path to save the assets\n",
    "        SAVE_LOCAL : (Optional) download the processed images to local.\n",
    "        VISUALIZATION : (Optional) convert raw image to RGB image and download the processed images to local.\n",
    "        LOCAL_DIR : (Optional) where to save downloaded images.\n",
    "        \n",
    "    Returns:\n",
    "        An ee.ImageCollection with an analysis ready Sentinel 2 imagery with the cloud masked images and vegetation index band.\n",
    "\n",
    "\n",
    "    \"\"\"\n",
    "\n",
    "import base_process as bp\n",
    "\n",
    "\n",
    "# Query Dates\n",
    "dates_list_2019 = ['2019-01-24', '2019-03-15', '2019-05-04', '2019-05-09', \n",
    "                   '2019-05-24', '2019-05-29', '2019-06-03', '2019-06-08', \n",
    "                   '2019-06-23', '2019-06-28', '2019-07-08', '2019-07-23',\n",
    "                   '2019-08-02', '2019-08-07', '2019-08-12', '2019-08-17',\n",
    "                   '2019-08-22', '2019-09-11', '2019-09-16', '2019-09-26',\n",
    "                   '2019-10-21', '2019-10-31', '2019-11-05', '2019-11-10',\n",
    "                   '2019-11-15', '2019-12-05', '2019-12-10', '2019-12-30']\n",
    "\n",
    "dates_list_2020 = ['2020-01-19', '2020-01-29', '2020-02-18', '2020-02-23', \n",
    "                   '2020-03-14', '2020-03-19', '2020-03-24', '2020-04-03', \n",
    "                   '2020-04-08', '2020-04-13', '2020-04-23', '2020-04-28',\n",
    "                   '2020-05-03', '2020-05-13', '2020-05-18', '2020-05-23',\n",
    "                   '2020-06-02', '2020-06-07', '2020-07-22', '2020-08-01',\n",
    "                   '2020-08-11', '2020-08-16', '2020-08-21', '2020-08-31',\n",
    "                   '2020-09-05', '2020-09-20', '2020-09-25', '2020-09-30',\n",
    "                   '2020-10-05', '2020-10-10', '2020-10-20', '2020-10-25',\n",
    "                   '2020-10-30', '2020-11-04', '2020-11-09', '2020-11-14',\n",
    "                   '2020-11-29', '2020-12-09', '2020-12-14', '2020-12-19']\n",
    "\n",
    "dates_list_2021 = ['2021-01-03', '2021-01-08', '2021-01-13', '2021-01-18', \n",
    "                   '2021-02-02', '2021-02-07', '2021-02-17', '2021-02-22', \n",
    "                   '2021-03-14', '2021-03-29', '2021-04-08', '2021-04-18',\n",
    "                   '2021-05-03', '2021-05-08', '2021-06-07', '2021-06-22',\n",
    "                   '2021-07-12', '2021-08-26', '2021-08-31', '2021-09-30',\n",
    "                   '2021-10-05', '2021-10-30', '2021-11-09', '2021-11-14',\n",
    "                   '2021-11-19', '2021-11-24', '2021-12-04', '2021-12-19',\n",
    "                   '2021-12-29']\n",
    "\n",
    "dates_list_2022 = ['2022-01-03', '2022-01-13', '2022-01-18', '2022-02-27', \n",
    "                   '2022-03-04', '2022-03-09', '2022-03-14', '2022-03-24', \n",
    "                   '2022-03-29', '2022-04-03', '2022-04-08', '2022-05-03',\n",
    "                   '2022-05-08', '2022-05-18', '2022-05-23', '2022-06-17',\n",
    "                   '2022-06-22', '2022-06-27', '2022-07-02', '2022-07-07',\n",
    "                   '2022-07-12', '2022-07-22', '2022-07-27', '2022-08-01',\n",
    "                   '2022-08-06', '2022-08-11', '2022-08-16', '2022-09-10',\n",
    "                   '2022-10-10', '2022-10-15', '2022-10-20', '2022-11-04',\n",
    "                   '2022-12-14', '2022-12-19', '2022-12-24']\n",
    "\n",
    "dates_list_2023 = ['2023-01-03', '2023-01-08', '2023-01-18', '2023-01-28', \n",
    "                   '2023-02-27', '2023-03-04', '2023-03-09', '2023-03-14', \n",
    "                   '2023-04-03', '2023-04-08', '2023-04-13', '2023-04-28', \n",
    "                   '2023-05-08', '2023-05-13', '2023-05-23', '2023-05-28']\n",
    "\n",
    "\n",
    "for d in dates_list_2023:\n",
    "    # processed s2 collection\n",
    "    bp.chongming_preprocess(d, \"EPSG:4326\", \"G:/geoserver_data/ndvi_wgs84\", \"G:/geoserver_data/ndvi_gcj02\")"
   ]
  }
 ],
 "metadata": {
  "kernelspec": {
   "display_name": "gee",
   "language": "python",
   "name": "python3"
  },
  "language_info": {
   "codemirror_mode": {
    "name": "ipython",
    "version": 3
   },
   "file_extension": ".py",
   "mimetype": "text/x-python",
   "name": "python",
   "nbconvert_exporter": "python",
   "pygments_lexer": "ipython3",
   "version": "3.10.4"
  },
  "orig_nbformat": 4
 },
 "nbformat": 4,
 "nbformat_minor": 2
}
