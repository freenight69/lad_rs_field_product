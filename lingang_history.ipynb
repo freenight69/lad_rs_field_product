{
 "cells": [
  {
   "cell_type": "code",
   "execution_count": 5,
   "metadata": {},
   "outputs": [
    {
     "name": "stdout",
     "output_type": "stream",
     "text": [
      "Downloading image in lingang on 20190124:\n"
     ]
    },
    {
     "data": {
      "application/vnd.jupyter.widget-view+json": {
       "model_id": "e6701051d58d4a29ae500c4d496daad1",
       "version_major": 2,
       "version_minor": 0
      },
      "text/plain": [
       "lingang_DT_ZS_20190124.tif: |          | 0.00/643k (raw) [  0.0%] in 00:00 (eta:     ?)"
      ]
     },
     "metadata": {},
     "output_type": "display_data"
    },
    {
     "name": "stdout",
     "output_type": "stream",
     "text": [
      "Downloading image in lingang on 20190312:\n"
     ]
    },
    {
     "data": {
      "application/vnd.jupyter.widget-view+json": {
       "model_id": "de855bd7d4564408aa99a6d28223fad5",
       "version_major": 2,
       "version_minor": 0
      },
      "text/plain": [
       "lingang_DT_ZS_20190312.tif: |          | 0.00/643k (raw) [  0.0%] in 00:00 (eta:     ?)"
      ]
     },
     "metadata": {},
     "output_type": "display_data"
    },
    {
     "name": "stdout",
     "output_type": "stream",
     "text": [
      "Downloading image in lingang on 20190315:\n"
     ]
    },
    {
     "data": {
      "application/vnd.jupyter.widget-view+json": {
       "model_id": "e16acb66221a4b66883899b86f1d0591",
       "version_major": 2,
       "version_minor": 0
      },
      "text/plain": [
       "lingang_DT_ZS_20190315.tif: |          | 0.00/643k (raw) [  0.0%] in 00:00 (eta:     ?)"
      ]
     },
     "metadata": {},
     "output_type": "display_data"
    },
    {
     "name": "stdout",
     "output_type": "stream",
     "text": [
      "Downloading image in lingang on 20190317:\n"
     ]
    },
    {
     "data": {
      "application/vnd.jupyter.widget-view+json": {
       "model_id": "48389ddfd0df49cfa10499c93c767f9a",
       "version_major": 2,
       "version_minor": 0
      },
      "text/plain": [
       "lingang_DT_ZS_20190317.tif: |          | 0.00/643k (raw) [  0.0%] in 00:00 (eta:     ?)"
      ]
     },
     "metadata": {},
     "output_type": "display_data"
    },
    {
     "name": "stdout",
     "output_type": "stream",
     "text": [
      "Downloading image in lingang on 20190401:\n"
     ]
    },
    {
     "data": {
      "application/vnd.jupyter.widget-view+json": {
       "model_id": "af16983122cd4bd78a22c7077121dcb9",
       "version_major": 2,
       "version_minor": 0
      },
      "text/plain": [
       "lingang_DT_ZS_20190401.tif: |          | 0.00/643k (raw) [  0.0%] in 00:00 (eta:     ?)"
      ]
     },
     "metadata": {},
     "output_type": "display_data"
    },
    {
     "name": "stdout",
     "output_type": "stream",
     "text": [
      "Downloading image in lingang on 20190406:\n"
     ]
    },
    {
     "data": {
      "application/vnd.jupyter.widget-view+json": {
       "model_id": "813d488fb28b4f26ae470ff229158969",
       "version_major": 2,
       "version_minor": 0
      },
      "text/plain": [
       "lingang_DT_ZS_20190406.tif: |          | 0.00/643k (raw) [  0.0%] in 00:00 (eta:     ?)"
      ]
     },
     "metadata": {},
     "output_type": "display_data"
    },
    {
     "name": "stdout",
     "output_type": "stream",
     "text": [
      "Downloading image in lingang on 20190409:\n"
     ]
    },
    {
     "data": {
      "application/vnd.jupyter.widget-view+json": {
       "model_id": "96f9136050ff4d9c91daaeadbfe44ace",
       "version_major": 2,
       "version_minor": 0
      },
      "text/plain": [
       "lingang_DT_ZS_20190409.tif: |          | 0.00/643k (raw) [  0.0%] in 00:00 (eta:     ?)"
      ]
     },
     "metadata": {},
     "output_type": "display_data"
    },
    {
     "name": "stdout",
     "output_type": "stream",
     "text": [
      "Downloading image in lingang on 20190504:\n"
     ]
    },
    {
     "data": {
      "application/vnd.jupyter.widget-view+json": {
       "model_id": "bde3b979a0424178b24031a3fe884b5e",
       "version_major": 2,
       "version_minor": 0
      },
      "text/plain": [
       "lingang_DT_ZS_20190504.tif: |          | 0.00/643k (raw) [  0.0%] in 00:00 (eta:     ?)"
      ]
     },
     "metadata": {},
     "output_type": "display_data"
    },
    {
     "name": "stdout",
     "output_type": "stream",
     "text": [
      "Downloading image in lingang on 20190509:\n"
     ]
    },
    {
     "data": {
      "application/vnd.jupyter.widget-view+json": {
       "model_id": "5b1b95b7420d46d9b511f749572932e3",
       "version_major": 2,
       "version_minor": 0
      },
      "text/plain": [
       "lingang_DT_ZS_20190509.tif: |          | 0.00/643k (raw) [  0.0%] in 00:00 (eta:     ?)"
      ]
     },
     "metadata": {},
     "output_type": "display_data"
    },
    {
     "name": "stdout",
     "output_type": "stream",
     "text": [
      "Downloading image in lingang on 20190511:\n"
     ]
    },
    {
     "data": {
      "application/vnd.jupyter.widget-view+json": {
       "model_id": "25c70ad2936d4e409f8f457b1632e8dc",
       "version_major": 2,
       "version_minor": 0
      },
      "text/plain": [
       "lingang_DT_ZS_20190511.tif: |          | 0.00/643k (raw) [  0.0%] in 00:00 (eta:     ?)"
      ]
     },
     "metadata": {},
     "output_type": "display_data"
    },
    {
     "name": "stdout",
     "output_type": "stream",
     "text": [
      "Downloading image in lingang on 20190524:\n"
     ]
    },
    {
     "data": {
      "application/vnd.jupyter.widget-view+json": {
       "model_id": "268776f57b9441cc917c161e3fd56180",
       "version_major": 2,
       "version_minor": 0
      },
      "text/plain": [
       "lingang_DT_ZS_20190524.tif: |          | 0.00/643k (raw) [  0.0%] in 00:00 (eta:     ?)"
      ]
     },
     "metadata": {},
     "output_type": "display_data"
    },
    {
     "name": "stdout",
     "output_type": "stream",
     "text": [
      "Downloading image in lingang on 20190615:\n"
     ]
    },
    {
     "data": {
      "application/vnd.jupyter.widget-view+json": {
       "model_id": "2cc3939c9a494b50a395790cd3f73a89",
       "version_major": 2,
       "version_minor": 0
      },
      "text/plain": [
       "lingang_DT_ZS_20190615.tif: |          | 0.00/643k (raw) [  0.0%] in 00:00 (eta:     ?)"
      ]
     },
     "metadata": {},
     "output_type": "display_data"
    },
    {
     "name": "stdout",
     "output_type": "stream",
     "text": [
      "Downloading image in lingang on 20190628:\n"
     ]
    },
    {
     "data": {
      "application/vnd.jupyter.widget-view+json": {
       "model_id": "032a3ab18e90467592ab549819cdf742",
       "version_major": 2,
       "version_minor": 0
      },
      "text/plain": [
       "lingang_DT_ZS_20190628.tif: |          | 0.00/643k (raw) [  0.0%] in 00:00 (eta:     ?)"
      ]
     },
     "metadata": {},
     "output_type": "display_data"
    },
    {
     "name": "stdout",
     "output_type": "stream",
     "text": [
      "Downloading image in lingang on 20190723:\n"
     ]
    },
    {
     "data": {
      "application/vnd.jupyter.widget-view+json": {
       "model_id": "0eb50237e7c742b6b26adc352cbbe63a",
       "version_major": 2,
       "version_minor": 0
      },
      "text/plain": [
       "lingang_DT_ZS_20190723.tif: |          | 0.00/643k (raw) [  0.0%] in 00:00 (eta:     ?)"
      ]
     },
     "metadata": {},
     "output_type": "display_data"
    },
    {
     "name": "stdout",
     "output_type": "stream",
     "text": [
      "Downloading image in lingang on 20190725:\n"
     ]
    },
    {
     "data": {
      "application/vnd.jupyter.widget-view+json": {
       "model_id": "ef3d9c7fdb7747ceb536f786ad5cf303",
       "version_major": 2,
       "version_minor": 0
      },
      "text/plain": [
       "lingang_DT_ZS_20190725.tif: |          | 0.00/643k (raw) [  0.0%] in 00:00 (eta:     ?)"
      ]
     },
     "metadata": {},
     "output_type": "display_data"
    },
    {
     "name": "stdout",
     "output_type": "stream",
     "text": [
      "Downloading image in lingang on 20190728:\n"
     ]
    },
    {
     "data": {
      "application/vnd.jupyter.widget-view+json": {
       "model_id": "d9a17b9426c84cc4a619713ecd511e69",
       "version_major": 2,
       "version_minor": 0
      },
      "text/plain": [
       "lingang_DT_ZS_20190728.tif: |          | 0.00/643k (raw) [  0.0%] in 00:00 (eta:     ?)"
      ]
     },
     "metadata": {},
     "output_type": "display_data"
    },
    {
     "name": "stdout",
     "output_type": "stream",
     "text": [
      "Downloading image in lingang on 20190730:\n"
     ]
    },
    {
     "data": {
      "application/vnd.jupyter.widget-view+json": {
       "model_id": "5e70d515a66f465691c404423731172b",
       "version_major": 2,
       "version_minor": 0
      },
      "text/plain": [
       "lingang_DT_ZS_20190730.tif: |          | 0.00/643k (raw) [  0.0%] in 00:00 (eta:     ?)"
      ]
     },
     "metadata": {},
     "output_type": "display_data"
    },
    {
     "name": "stdout",
     "output_type": "stream",
     "text": [
      "Downloading image in lingang on 20190812:\n"
     ]
    },
    {
     "data": {
      "application/vnd.jupyter.widget-view+json": {
       "model_id": "318f0ca1e0a445ac9555a5aa6495b439",
       "version_major": 2,
       "version_minor": 0
      },
      "text/plain": [
       "lingang_DT_ZS_20190812.tif: |          | 0.00/643k (raw) [  0.0%] in 00:00 (eta:     ?)"
      ]
     },
     "metadata": {},
     "output_type": "display_data"
    },
    {
     "name": "stdout",
     "output_type": "stream",
     "text": [
      "Downloading image in lingang on 20190814:\n"
     ]
    },
    {
     "data": {
      "application/vnd.jupyter.widget-view+json": {
       "model_id": "d92b4ab74822485d84190ae3bb385547",
       "version_major": 2,
       "version_minor": 0
      },
      "text/plain": [
       "lingang_DT_ZS_20190814.tif: |          | 0.00/643k (raw) [  0.0%] in 00:00 (eta:     ?)"
      ]
     },
     "metadata": {},
     "output_type": "display_data"
    },
    {
     "name": "stdout",
     "output_type": "stream",
     "text": [
      "Downloading image in lingang on 20190817:\n"
     ]
    },
    {
     "data": {
      "application/vnd.jupyter.widget-view+json": {
       "model_id": "d50d154e781945678176c1141d226b5b",
       "version_major": 2,
       "version_minor": 0
      },
      "text/plain": [
       "lingang_DT_ZS_20190817.tif: |          | 0.00/643k (raw) [  0.0%] in 00:00 (eta:     ?)"
      ]
     },
     "metadata": {},
     "output_type": "display_data"
    },
    {
     "name": "stdout",
     "output_type": "stream",
     "text": [
      "Downloading image in lingang on 20190822:\n"
     ]
    },
    {
     "data": {
      "application/vnd.jupyter.widget-view+json": {
       "model_id": "1acbe7499ace4d63a5100a1a65198e28",
       "version_major": 2,
       "version_minor": 0
      },
      "text/plain": [
       "lingang_DT_ZS_20190822.tif: |          | 0.00/643k (raw) [  0.0%] in 00:00 (eta:     ?)"
      ]
     },
     "metadata": {},
     "output_type": "display_data"
    },
    {
     "name": "stdout",
     "output_type": "stream",
     "text": [
      "Downloading image in lingang on 20190911:\n"
     ]
    },
    {
     "data": {
      "application/vnd.jupyter.widget-view+json": {
       "model_id": "98b8296b1199457987a74174ca7ced43",
       "version_major": 2,
       "version_minor": 0
      },
      "text/plain": [
       "lingang_DT_ZS_20190911.tif: |          | 0.00/643k (raw) [  0.0%] in 00:00 (eta:     ?)"
      ]
     },
     "metadata": {},
     "output_type": "display_data"
    },
    {
     "name": "stdout",
     "output_type": "stream",
     "text": [
      "Downloading image in lingang on 20190916:\n"
     ]
    },
    {
     "data": {
      "application/vnd.jupyter.widget-view+json": {
       "model_id": "f9f1381ae192419a9602b95233726b92",
       "version_major": 2,
       "version_minor": 0
      },
      "text/plain": [
       "lingang_DT_ZS_20190916.tif: |          | 0.00/643k (raw) [  0.0%] in 00:00 (eta:     ?)"
      ]
     },
     "metadata": {},
     "output_type": "display_data"
    },
    {
     "name": "stdout",
     "output_type": "stream",
     "text": [
      "Downloading image in lingang on 20190918:\n"
     ]
    },
    {
     "data": {
      "application/vnd.jupyter.widget-view+json": {
       "model_id": "a3f308e143754433ad32effee2b6f77a",
       "version_major": 2,
       "version_minor": 0
      },
      "text/plain": [
       "lingang_DT_ZS_20190918.tif: |          | 0.00/643k (raw) [  0.0%] in 00:00 (eta:     ?)"
      ]
     },
     "metadata": {},
     "output_type": "display_data"
    },
    {
     "name": "stdout",
     "output_type": "stream",
     "text": [
      "Downloading image in lingang on 20190926:\n"
     ]
    },
    {
     "data": {
      "application/vnd.jupyter.widget-view+json": {
       "model_id": "1df464bd42bb452f8ca107ccd8999d17",
       "version_major": 2,
       "version_minor": 0
      },
      "text/plain": [
       "lingang_DT_ZS_20190926.tif: |          | 0.00/643k (raw) [  0.0%] in 00:00 (eta:     ?)"
      ]
     },
     "metadata": {},
     "output_type": "display_data"
    },
    {
     "name": "stdout",
     "output_type": "stream",
     "text": [
      "Downloading image in lingang on 20191003:\n"
     ]
    },
    {
     "data": {
      "application/vnd.jupyter.widget-view+json": {
       "model_id": "4821ac1ae38e4f71b424bdc6c0b9e469",
       "version_major": 2,
       "version_minor": 0
      },
      "text/plain": [
       "lingang_DT_ZS_20191003.tif: |          | 0.00/643k (raw) [  0.0%] in 00:00 (eta:     ?)"
      ]
     },
     "metadata": {},
     "output_type": "display_data"
    },
    {
     "name": "stdout",
     "output_type": "stream",
     "text": [
      "Downloading image in lingang on 20191031:\n"
     ]
    },
    {
     "data": {
      "application/vnd.jupyter.widget-view+json": {
       "model_id": "83cf172002494f9b84da1bfb7b5cf3fb",
       "version_major": 2,
       "version_minor": 0
      },
      "text/plain": [
       "lingang_DT_ZS_20191031.tif: |          | 0.00/643k (raw) [  0.0%] in 00:00 (eta:     ?)"
      ]
     },
     "metadata": {},
     "output_type": "display_data"
    },
    {
     "name": "stdout",
     "output_type": "stream",
     "text": [
      "Downloading image in lingang on 20191105:\n"
     ]
    },
    {
     "data": {
      "application/vnd.jupyter.widget-view+json": {
       "model_id": "fa444e51c69944ad8080a857f5e2e972",
       "version_major": 2,
       "version_minor": 0
      },
      "text/plain": [
       "lingang_DT_ZS_20191105.tif: |          | 0.00/643k (raw) [  0.0%] in 00:00 (eta:     ?)"
      ]
     },
     "metadata": {},
     "output_type": "display_data"
    },
    {
     "name": "stdout",
     "output_type": "stream",
     "text": [
      "Downloading image in lingang on 20191115:\n"
     ]
    },
    {
     "data": {
      "application/vnd.jupyter.widget-view+json": {
       "model_id": "b551693405a741038dcfa8f71b92d9fc",
       "version_major": 2,
       "version_minor": 0
      },
      "text/plain": [
       "lingang_DT_ZS_20191115.tif: |          | 0.00/643k (raw) [  0.0%] in 00:00 (eta:     ?)"
      ]
     },
     "metadata": {},
     "output_type": "display_data"
    },
    {
     "name": "stdout",
     "output_type": "stream",
     "text": [
      "Downloading image in lingang on 20191117:\n"
     ]
    },
    {
     "data": {
      "application/vnd.jupyter.widget-view+json": {
       "model_id": "856e306bebe04920880480efa79dab8e",
       "version_major": 2,
       "version_minor": 0
      },
      "text/plain": [
       "lingang_DT_ZS_20191117.tif: |          | 0.00/643k (raw) [  0.0%] in 00:00 (eta:     ?)"
      ]
     },
     "metadata": {},
     "output_type": "display_data"
    },
    {
     "name": "stdout",
     "output_type": "stream",
     "text": [
      "Downloading image in lingang on 20191120:\n"
     ]
    },
    {
     "data": {
      "application/vnd.jupyter.widget-view+json": {
       "model_id": "805a23d8d438484fabd36c2910cab921",
       "version_major": 2,
       "version_minor": 0
      },
      "text/plain": [
       "lingang_DT_ZS_20191120.tif: |          | 0.00/643k (raw) [  0.0%] in 00:00 (eta:     ?)"
      ]
     },
     "metadata": {},
     "output_type": "display_data"
    },
    {
     "name": "stdout",
     "output_type": "stream",
     "text": [
      "Downloading image in lingang on 20191202:\n"
     ]
    },
    {
     "data": {
      "application/vnd.jupyter.widget-view+json": {
       "model_id": "ad0e50299527461a9c34a385f28862ed",
       "version_major": 2,
       "version_minor": 0
      },
      "text/plain": [
       "lingang_DT_ZS_20191202.tif: |          | 0.00/643k (raw) [  0.0%] in 00:00 (eta:     ?)"
      ]
     },
     "metadata": {},
     "output_type": "display_data"
    },
    {
     "name": "stdout",
     "output_type": "stream",
     "text": [
      "Downloading image in lingang on 20191207:\n"
     ]
    },
    {
     "data": {
      "application/vnd.jupyter.widget-view+json": {
       "model_id": "dd4e534f943342c9b2a4df438c445e32",
       "version_major": 2,
       "version_minor": 0
      },
      "text/plain": [
       "lingang_DT_ZS_20191207.tif: |          | 0.00/643k (raw) [  0.0%] in 00:00 (eta:     ?)"
      ]
     },
     "metadata": {},
     "output_type": "display_data"
    },
    {
     "name": "stdout",
     "output_type": "stream",
     "text": [
      "Downloading image in lingang on 20191210:\n"
     ]
    },
    {
     "data": {
      "application/vnd.jupyter.widget-view+json": {
       "model_id": "048f1201a06442ebb4f7a5c1bc0e1324",
       "version_major": 2,
       "version_minor": 0
      },
      "text/plain": [
       "lingang_DT_ZS_20191210.tif: |          | 0.00/643k (raw) [  0.0%] in 00:00 (eta:     ?)"
      ]
     },
     "metadata": {},
     "output_type": "display_data"
    },
    {
     "name": "stdout",
     "output_type": "stream",
     "text": [
      "Downloading image in lingang on 20191212:\n"
     ]
    },
    {
     "data": {
      "application/vnd.jupyter.widget-view+json": {
       "model_id": "87b665c7637a4e99b2c601ca3d17c6e9",
       "version_major": 2,
       "version_minor": 0
      },
      "text/plain": [
       "lingang_DT_ZS_20191212.tif: |          | 0.00/643k (raw) [  0.0%] in 00:00 (eta:     ?)"
      ]
     },
     "metadata": {},
     "output_type": "display_data"
    },
    {
     "name": "stdout",
     "output_type": "stream",
     "text": [
      "Downloading image in lingang on 20191215:\n"
     ]
    },
    {
     "data": {
      "application/vnd.jupyter.widget-view+json": {
       "model_id": "94f7827d06414a36a45e2e7d66f68947",
       "version_major": 2,
       "version_minor": 0
      },
      "text/plain": [
       "lingang_DT_ZS_20191215.tif: |          | 0.00/643k (raw) [  0.0%] in 00:00 (eta:     ?)"
      ]
     },
     "metadata": {},
     "output_type": "display_data"
    },
    {
     "name": "stdout",
     "output_type": "stream",
     "text": [
      "Downloading image in lingang on 20191230:\n"
     ]
    },
    {
     "data": {
      "application/vnd.jupyter.widget-view+json": {
       "model_id": "1267655e2b3b4b0aa1338d65321d531f",
       "version_major": 2,
       "version_minor": 0
      },
      "text/plain": [
       "lingang_DT_ZS_20191230.tif: |          | 0.00/643k (raw) [  0.0%] in 00:00 (eta:     ?)"
      ]
     },
     "metadata": {},
     "output_type": "display_data"
    }
   ],
   "source": [
    "#!/usr/bin/env python\n",
    "# -*- coding: utf-8 -*-\n",
    "\"\"\"\n",
    "File: s2_test.py\n",
    "Version: v1.0\n",
    "Date: 2023-02-09\n",
    "Authors: Chen G.\n",
    "Description: This script creates downloading and processing Sentinel-2 images based on Google Earth Engine.\n",
    "License: This code is distributed under the MIT License.\n",
    "\n",
    "    Parameter:\n",
    "        START_DATE: The earliest date to include images for (inclusive).\n",
    "        END_DATE: The latest date to include images for (exclusive).\n",
    "        BANDS: The Sentinel-2 image bands to select for processing.\n",
    "        ROI: The boundry to select for processing.\n",
    "        MAX_CLOUD_PROBABILITY: (Optional) cloud cover percentage to apply s2 image collection filter.\n",
    "        CAL_NDVI: (Optional) calculate the Normalized Difference Vegetation Index (NDVI) from multiband s2 images.\n",
    "        CAL_NDMI: (Optional) calculate the Normalized Difference Moisture Index (NDMI) from multiband s2 images.\n",
    "        CLIP_TO_ROI: (Optional) clip the processed image to the region of interest.\n",
    "        SAVE_ASSETS : (Optional) exports the processed collection to an asset.\n",
    "        ASSET_ID : (Optional) the user id path to save the assets\n",
    "        SAVE_LOCAL : (Optional) download the processed images to local.\n",
    "        VISUALIZATION : (Optional) convert raw image to RGB image and download the processed images to local.\n",
    "        LOCAL_DIR : (Optional) where to save downloaded images.\n",
    "        \n",
    "    Returns:\n",
    "        An ee.ImageCollection with an analysis ready Sentinel 2 imagery with the cloud masked images and vegetation index band.\n",
    "\n",
    "\n",
    "    \"\"\"\n",
    "\n",
    "import base_process as bp\n",
    "\n",
    "\n",
    "# Query Dates\n",
    "dates_list_2019 = ['2019-01-24', '2019-03-12', '2019-03-15', '2019-03-17', '2019-04-01', '2019-04-06', '2019-04-09', '2019-05-04', \n",
    "                   '2019-05-09', '2019-05-11', '2019-05-24', '2019-06-15', '2019-06-28', '2019-07-23', '2019-07-25', '2019-07-28', \n",
    "                   '2019-07-30', '2019-08-12', '2019-08-14', '2019-08-17', '2019-08-22', '2019-09-11', '2019-09-16', '2019-09-18', \n",
    "                   '2019-09-26', '2019-10-03', '2019-10-31', '2019-11-05', '2019-11-15', '2019-11-17', '2019-11-20', '2019-12-02', \n",
    "                   '2019-12-07', '2019-12-10', '2019-12-12', '2019-12-15', '2019-12-30']\n",
    "\n",
    "dates_list_2020 = ['2020-01-06', '2020-01-21', '2020-01-29', '2020-01-31', '2020-02-03', '2020-02-05', '2020-02-10', '2020-02-18', \n",
    "                   '2020-02-20', '2020-02-23', '2020-03-06', '2020-03-14', '2020-03-16', '2020-03-19', '2020-03-21', '2020-03-31', \n",
    "                   '2020-04-05', '2020-04-13', '2020-04-15', '2020-04-23', '2020-04-25', '2020-04-28', '2020-05-03', '2020-05-13',\n",
    "                   '2020-06-07', '2020-08-01', '2020-08-13', '2020-08-16', '2020-08-23', '2020-08-28', '2020-09-05', '2020-09-07', \n",
    "                   '2020-09-25', '2020-10-02', '2020-10-17', '2020-10-20', '2020-10-30', '2020-11-04', '2020-11-06', '2020-11-11', \n",
    "                   '2020-11-29', '2020-12-01', '2020-12-04', '2020-12-09', '2020-12-16', '2020-12-21', '2020-12-31']\n",
    "\n",
    "dates_list_2021 = ['2021-01-08', '2021-01-10', '2021-01-13', '2021-01-15', '2021-01-18', '2021-01-25', '2021-01-30', '2021-02-04', \n",
    "                   '2021-02-19', '2021-02-22', '2021-03-14', '2021-03-29', '2021-04-10', '2021-04-25', '2021-04-30', '2021-05-05', \n",
    "                   '2021-05-10', '2021-05-25', '2021-06-07', '2021-06-24', '2021-07-07', '2021-07-14', '2021-07-22', '2021-08-28', \n",
    "                   '2021-09-20', '2021-09-22', '2021-10-05', '2021-10-10', '2021-10-25', '2021-11-09', '2021-11-11', '2021-11-14', \n",
    "                   '2021-11-16', '2021-11-19', '2021-11-24', '2021-11-26', '2021-12-04', '2021-12-06', '2021-12-11', '2021-12-19', \n",
    "                   '2021-12-26', '2021-12-29', '2021-12-31']\n",
    "\n",
    "dates_list_2022 = ['2022-01-03', '2022-01-18', '2022-02-04', '2022-02-14', '2022-02-27', '2022-03-09', '2022-03-14', '2022-03-24',  \n",
    "                   '2022-03-26', '2022-03-29', '2022-04-03', '2022-04-08', '2022-04-10', '2022-04-20', '2022-05-03', '2022-05-05', \n",
    "                   '2022-05-08', '2022-05-18', '2022-06-22', '2022-07-04', '2022-07-07', '2022-07-12', '2022-07-14', '2022-07-29', \n",
    "                   '2022-08-03', '2022-08-06', '2022-08-08', '2022-08-11', '2022-08-16', '2022-08-23', '2022-09-17', '2022-09-20', \n",
    "                   '2022-09-27', '2022-10-02', '2022-10-10', '2022-10-25', '2022-10-30', '2022-11-01', '2022-11-06', '2022-11-16', \n",
    "                   '2022-11-21', '2022-12-06', '2022-12-14', '2022-12-21', '2022-12-24', '2022-12-31']\n",
    "\n",
    "dates_list_2023 = ['2023-01-03', '2023-01-08', '2023-01-18', '2023-01-20', '2023-01-25', '2023-01-28', '2023-01-30', '2023-03-04',  \n",
    "                   '2023-03-06', '2023-03-09', '2023-03-14', '2023-03-16', '2023-03-26', '2023-04-03']\n",
    "\n",
    "\n",
    "for d in dates_list_2019:\n",
    "    # processed s2 collection\n",
    "    bp.lingang_preprocess(d, \"EPSG:4326\", \"G:/geoserver_data/ndvi_wgs84\", \"G:/geoserver_data/ndvi_gcj02\")\n"
   ]
  }
 ],
 "metadata": {
  "kernelspec": {
   "display_name": "gee",
   "language": "python",
   "name": "python3"
  },
  "language_info": {
   "codemirror_mode": {
    "name": "ipython",
    "version": 3
   },
   "file_extension": ".py",
   "mimetype": "text/x-python",
   "name": "python",
   "nbconvert_exporter": "python",
   "pygments_lexer": "ipython3",
   "version": "3.10.4"
  },
  "orig_nbformat": 4,
  "vscode": {
   "interpreter": {
    "hash": "896a7d79eada75efa10dad6f0d96b47f777beb9d98c3280bc138867997bd1c02"
   }
  }
 },
 "nbformat": 4,
 "nbformat_minor": 2
}
