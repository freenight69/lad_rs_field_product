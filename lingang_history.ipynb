{
 "cells": [
  {
   "cell_type": "code",
   "execution_count": 1,
   "metadata": {},
   "outputs": [
    {
     "name": "stdout",
     "output_type": "stream",
     "text": [
      "Downloading image in lingang on 20230103:\n"
     ]
    },
    {
     "data": {
      "application/vnd.jupyter.widget-view+json": {
       "model_id": "afb8620bf7e44f21bf220f388f217351",
       "version_major": 2,
       "version_minor": 0
      },
      "text/plain": [
       "lingang_DT_ZS_20230103.tif: |          | 0.00/643k (raw) [  0.0%] in 00:00 (eta:     ?)"
      ]
     },
     "metadata": {},
     "output_type": "display_data"
    },
    {
     "name": "stderr",
     "output_type": "stream",
     "text": [
      "There is no STAC entry for: None\n"
     ]
    },
    {
     "name": "stdout",
     "output_type": "stream",
     "text": [
      "Downloading image in lingang on 20230108:\n"
     ]
    },
    {
     "data": {
      "application/vnd.jupyter.widget-view+json": {
       "model_id": "9e23eb6f2a2b4451b944e1cf00866147",
       "version_major": 2,
       "version_minor": 0
      },
      "text/plain": [
       "lingang_DT_ZS_20230108.tif: |          | 0.00/643k (raw) [  0.0%] in 00:00 (eta:     ?)"
      ]
     },
     "metadata": {},
     "output_type": "display_data"
    },
    {
     "name": "stdout",
     "output_type": "stream",
     "text": [
      "Downloading image in lingang on 20230118:\n"
     ]
    },
    {
     "data": {
      "application/vnd.jupyter.widget-view+json": {
       "model_id": "28879e48dc304e71817981b217f6faba",
       "version_major": 2,
       "version_minor": 0
      },
      "text/plain": [
       "lingang_DT_ZS_20230118.tif: |          | 0.00/643k (raw) [  0.0%] in 00:00 (eta:     ?)"
      ]
     },
     "metadata": {},
     "output_type": "display_data"
    },
    {
     "name": "stdout",
     "output_type": "stream",
     "text": [
      "Downloading image in lingang on 20230120:\n"
     ]
    },
    {
     "data": {
      "application/vnd.jupyter.widget-view+json": {
       "model_id": "04b6d237bc6142cb82fbff23f60b6f5b",
       "version_major": 2,
       "version_minor": 0
      },
      "text/plain": [
       "lingang_DT_ZS_20230120.tif: |          | 0.00/643k (raw) [  0.0%] in 00:00 (eta:     ?)"
      ]
     },
     "metadata": {},
     "output_type": "display_data"
    },
    {
     "name": "stdout",
     "output_type": "stream",
     "text": [
      "Downloading image in lingang on 20230125:\n"
     ]
    },
    {
     "data": {
      "application/vnd.jupyter.widget-view+json": {
       "model_id": "2beab1f5ecc8481185074583c16a8a8c",
       "version_major": 2,
       "version_minor": 0
      },
      "text/plain": [
       "lingang_DT_ZS_20230125.tif: |          | 0.00/643k (raw) [  0.0%] in 00:00 (eta:     ?)"
      ]
     },
     "metadata": {},
     "output_type": "display_data"
    },
    {
     "name": "stdout",
     "output_type": "stream",
     "text": [
      "Downloading image in lingang on 20230128:\n"
     ]
    },
    {
     "data": {
      "application/vnd.jupyter.widget-view+json": {
       "model_id": "01c005c7f55544ee9da3c398cb1eef97",
       "version_major": 2,
       "version_minor": 0
      },
      "text/plain": [
       "lingang_DT_ZS_20230128.tif: |          | 0.00/643k (raw) [  0.0%] in 00:00 (eta:     ?)"
      ]
     },
     "metadata": {},
     "output_type": "display_data"
    },
    {
     "name": "stdout",
     "output_type": "stream",
     "text": [
      "Downloading image in lingang on 20230130:\n"
     ]
    },
    {
     "data": {
      "application/vnd.jupyter.widget-view+json": {
       "model_id": "8576b5e1caf742229ddb65efd14bc713",
       "version_major": 2,
       "version_minor": 0
      },
      "text/plain": [
       "lingang_DT_ZS_20230130.tif: |          | 0.00/643k (raw) [  0.0%] in 00:00 (eta:     ?)"
      ]
     },
     "metadata": {},
     "output_type": "display_data"
    },
    {
     "name": "stdout",
     "output_type": "stream",
     "text": [
      "Downloading image in lingang on 20230304:\n"
     ]
    },
    {
     "data": {
      "application/vnd.jupyter.widget-view+json": {
       "model_id": "a71ab7fdc2364bf696a54628cf4952d0",
       "version_major": 2,
       "version_minor": 0
      },
      "text/plain": [
       "lingang_DT_ZS_20230304.tif: |          | 0.00/643k (raw) [  0.0%] in 00:00 (eta:     ?)"
      ]
     },
     "metadata": {},
     "output_type": "display_data"
    },
    {
     "name": "stdout",
     "output_type": "stream",
     "text": [
      "Downloading image in lingang on 20230306:\n"
     ]
    },
    {
     "data": {
      "application/vnd.jupyter.widget-view+json": {
       "model_id": "09d2ac6482a14aab8e1d4dc99e2ca593",
       "version_major": 2,
       "version_minor": 0
      },
      "text/plain": [
       "lingang_DT_ZS_20230306.tif: |          | 0.00/643k (raw) [  0.0%] in 00:00 (eta:     ?)"
      ]
     },
     "metadata": {},
     "output_type": "display_data"
    },
    {
     "name": "stdout",
     "output_type": "stream",
     "text": [
      "Downloading image in lingang on 20230309:\n"
     ]
    },
    {
     "data": {
      "application/vnd.jupyter.widget-view+json": {
       "model_id": "cdbd879651264fbdab1e877cf9d47551",
       "version_major": 2,
       "version_minor": 0
      },
      "text/plain": [
       "lingang_DT_ZS_20230309.tif: |          | 0.00/643k (raw) [  0.0%] in 00:00 (eta:     ?)"
      ]
     },
     "metadata": {},
     "output_type": "display_data"
    },
    {
     "name": "stdout",
     "output_type": "stream",
     "text": [
      "Downloading image in lingang on 20230314:\n"
     ]
    },
    {
     "data": {
      "application/vnd.jupyter.widget-view+json": {
       "model_id": "c3089e8b24e84539b14d4ee648836c2e",
       "version_major": 2,
       "version_minor": 0
      },
      "text/plain": [
       "lingang_DT_ZS_20230314.tif: |          | 0.00/643k (raw) [  0.0%] in 00:00 (eta:     ?)"
      ]
     },
     "metadata": {},
     "output_type": "display_data"
    },
    {
     "name": "stdout",
     "output_type": "stream",
     "text": [
      "Downloading image in lingang on 20230316:\n"
     ]
    },
    {
     "data": {
      "application/vnd.jupyter.widget-view+json": {
       "model_id": "37d1ed7cbede43869ab9ef7192abc927",
       "version_major": 2,
       "version_minor": 0
      },
      "text/plain": [
       "lingang_DT_ZS_20230316.tif: |          | 0.00/643k (raw) [  0.0%] in 00:00 (eta:     ?)"
      ]
     },
     "metadata": {},
     "output_type": "display_data"
    },
    {
     "name": "stdout",
     "output_type": "stream",
     "text": [
      "Downloading image in lingang on 20230326:\n"
     ]
    },
    {
     "data": {
      "application/vnd.jupyter.widget-view+json": {
       "model_id": "c1569834ff914efc9f24d58248bf7785",
       "version_major": 2,
       "version_minor": 0
      },
      "text/plain": [
       "lingang_DT_ZS_20230326.tif: |          | 0.00/643k (raw) [  0.0%] in 00:00 (eta:     ?)"
      ]
     },
     "metadata": {},
     "output_type": "display_data"
    },
    {
     "name": "stdout",
     "output_type": "stream",
     "text": [
      "Downloading image in lingang on 20230403:\n"
     ]
    },
    {
     "data": {
      "application/vnd.jupyter.widget-view+json": {
       "model_id": "f3c7874d6c094bea97320d1e4a3c557c",
       "version_major": 2,
       "version_minor": 0
      },
      "text/plain": [
       "lingang_DT_ZS_20230403.tif: |          | 0.00/643k (raw) [  0.0%] in 00:00 (eta:     ?)"
      ]
     },
     "metadata": {},
     "output_type": "display_data"
    },
    {
     "name": "stdout",
     "output_type": "stream",
     "text": [
      "Downloading image in lingang on 20230428:\n"
     ]
    },
    {
     "data": {
      "application/vnd.jupyter.widget-view+json": {
       "model_id": "6dc24c967b214e31a0da50683cf9f038",
       "version_major": 2,
       "version_minor": 0
      },
      "text/plain": [
       "lingang_DT_ZS_20230428.tif: |          | 0.00/643k (raw) [  0.0%] in 00:00 (eta:     ?)"
      ]
     },
     "metadata": {},
     "output_type": "display_data"
    },
    {
     "name": "stdout",
     "output_type": "stream",
     "text": [
      "Downloading image in lingang on 20230430:\n"
     ]
    },
    {
     "data": {
      "application/vnd.jupyter.widget-view+json": {
       "model_id": "203be4b4cbf7463e9b97e6f4a2061413",
       "version_major": 2,
       "version_minor": 0
      },
      "text/plain": [
       "lingang_DT_ZS_20230430.tif: |          | 0.00/643k (raw) [  0.0%] in 00:00 (eta:     ?)"
      ]
     },
     "metadata": {},
     "output_type": "display_data"
    },
    {
     "name": "stdout",
     "output_type": "stream",
     "text": [
      "Downloading image in lingang on 20230513:\n"
     ]
    },
    {
     "data": {
      "application/vnd.jupyter.widget-view+json": {
       "model_id": "ff1be4295ff84f0aaba5b02e1c205fdc",
       "version_major": 2,
       "version_minor": 0
      },
      "text/plain": [
       "lingang_DT_ZS_20230513.tif: |          | 0.00/643k (raw) [  0.0%] in 00:00 (eta:     ?)"
      ]
     },
     "metadata": {},
     "output_type": "display_data"
    },
    {
     "name": "stdout",
     "output_type": "stream",
     "text": [
      "Downloading image in lingang on 20230515:\n"
     ]
    },
    {
     "data": {
      "application/vnd.jupyter.widget-view+json": {
       "model_id": "ba1ac8d168d94d6da8da7978def46d72",
       "version_major": 2,
       "version_minor": 0
      },
      "text/plain": [
       "lingang_DT_ZS_20230515.tif: |          | 0.00/643k (raw) [  0.0%] in 00:00 (eta:     ?)"
      ]
     },
     "metadata": {},
     "output_type": "display_data"
    },
    {
     "name": "stdout",
     "output_type": "stream",
     "text": [
      "Downloading image in lingang on 20230525:\n"
     ]
    },
    {
     "data": {
      "application/vnd.jupyter.widget-view+json": {
       "model_id": "df0bda7b7f744ab292f7ffda8b37e620",
       "version_major": 2,
       "version_minor": 0
      },
      "text/plain": [
       "lingang_DT_ZS_20230525.tif: |          | 0.00/643k (raw) [  0.0%] in 00:00 (eta:     ?)"
      ]
     },
     "metadata": {},
     "output_type": "display_data"
    },
    {
     "name": "stdout",
     "output_type": "stream",
     "text": [
      "Downloading image in lingang on 20230528:\n"
     ]
    },
    {
     "data": {
      "application/vnd.jupyter.widget-view+json": {
       "model_id": "2b1f58ef18ab4282b79ab040eb2d8da3",
       "version_major": 2,
       "version_minor": 0
      },
      "text/plain": [
       "lingang_DT_ZS_20230528.tif: |          | 0.00/643k (raw) [  0.0%] in 00:00 (eta:     ?)"
      ]
     },
     "metadata": {},
     "output_type": "display_data"
    },
    {
     "name": "stdout",
     "output_type": "stream",
     "text": [
      "Downloading image in lingang on 20230530:\n"
     ]
    },
    {
     "data": {
      "application/vnd.jupyter.widget-view+json": {
       "model_id": "2ef99360274646fa914dd409da789db3",
       "version_major": 2,
       "version_minor": 0
      },
      "text/plain": [
       "lingang_DT_ZS_20230530.tif: |          | 0.00/643k (raw) [  0.0%] in 00:00 (eta:     ?)"
      ]
     },
     "metadata": {},
     "output_type": "display_data"
    }
   ],
   "source": [
    "#!/usr/bin/env python\n",
    "# -*- coding: utf-8 -*-\n",
    "\"\"\"\n",
    "File: s2_test.py\n",
    "Version: v1.0\n",
    "Date: 2023-02-09\n",
    "Authors: Chen G.\n",
    "Description: This script creates downloading and processing Sentinel-2 images based on Google Earth Engine.\n",
    "License: This code is distributed under the MIT License.\n",
    "\n",
    "    Parameter:\n",
    "        START_DATE: The earliest date to include images for (inclusive).\n",
    "        END_DATE: The latest date to include images for (exclusive).\n",
    "        BANDS: The Sentinel-2 image bands to select for processing.\n",
    "        ROI: The boundry to select for processing.\n",
    "        MAX_CLOUD_PROBABILITY: (Optional) cloud cover percentage to apply s2 image collection filter.\n",
    "        CAL_NDVI: (Optional) calculate the Normalized Difference Vegetation Index (NDVI) from multiband s2 images.\n",
    "        CAL_NDMI: (Optional) calculate the Normalized Difference Moisture Index (NDMI) from multiband s2 images.\n",
    "        CLIP_TO_ROI: (Optional) clip the processed image to the region of interest.\n",
    "        SAVE_ASSETS : (Optional) exports the processed collection to an asset.\n",
    "        ASSET_ID : (Optional) the user id path to save the assets\n",
    "        SAVE_LOCAL : (Optional) download the processed images to local.\n",
    "        VISUALIZATION : (Optional) convert raw image to RGB image and download the processed images to local.\n",
    "        LOCAL_DIR : (Optional) where to save downloaded images.\n",
    "        \n",
    "    Returns:\n",
    "        An ee.ImageCollection with an analysis ready Sentinel 2 imagery with the cloud masked images and vegetation index band.\n",
    "\n",
    "\n",
    "    \"\"\"\n",
    "\n",
    "import base_process as bp\n",
    "\n",
    "\n",
    "# Query Dates\n",
    "dates_list_2019 = ['2019-01-24', '2019-03-12', '2019-03-15', '2019-03-17', '2019-04-01', '2019-04-06', '2019-04-09', '2019-05-04', \n",
    "                   '2019-05-09', '2019-05-11', '2019-05-24', '2019-06-15', '2019-06-28', '2019-07-23', '2019-07-25', '2019-07-28', \n",
    "                   '2019-07-30', '2019-08-12', '2019-08-14', '2019-08-17', '2019-08-22', '2019-09-11', '2019-09-16', '2019-09-18', \n",
    "                   '2019-09-26', '2019-10-03', '2019-10-31', '2019-11-05', '2019-11-15', '2019-11-17', '2019-11-20', '2019-12-02', \n",
    "                   '2019-12-07', '2019-12-10', '2019-12-12', '2019-12-15', '2019-12-30']\n",
    "\n",
    "dates_list_2020 = ['2020-01-06', '2020-01-21', '2020-01-29', '2020-01-31', '2020-02-03', '2020-02-05', '2020-02-10', '2020-02-18', \n",
    "                   '2020-02-20', '2020-02-23', '2020-03-06', '2020-03-14', '2020-03-16', '2020-03-19', '2020-03-21', '2020-03-31', \n",
    "                   '2020-04-05', '2020-04-13', '2020-04-15', '2020-04-23', '2020-04-25', '2020-04-28', '2020-05-03', '2020-05-13',\n",
    "                   '2020-06-07', '2020-08-01', '2020-08-13', '2020-08-16', '2020-08-23', '2020-08-28', '2020-09-05', '2020-09-07', \n",
    "                   '2020-09-25', '2020-10-02', '2020-10-17', '2020-10-20', '2020-10-30', '2020-11-04', '2020-11-06', '2020-11-11', \n",
    "                   '2020-11-29', '2020-12-01', '2020-12-04', '2020-12-09', '2020-12-16', '2020-12-21', '2020-12-31']\n",
    "\n",
    "dates_list_2021 = ['2021-01-08', '2021-01-10', '2021-01-13', '2021-01-15', '2021-01-18', '2021-01-25', '2021-01-30', '2021-02-04', \n",
    "                   '2021-02-19', '2021-02-22', '2021-03-14', '2021-03-29', '2021-04-10', '2021-04-25', '2021-04-30', '2021-05-05', \n",
    "                   '2021-05-10', '2021-05-25', '2021-06-07', '2021-06-24', '2021-07-07', '2021-07-14', '2021-07-22', '2021-08-28', \n",
    "                   '2021-09-20', '2021-09-22', '2021-10-05', '2021-10-10', '2021-10-25', '2021-11-09', '2021-11-11', '2021-11-14', \n",
    "                   '2021-11-16', '2021-11-19', '2021-11-24', '2021-11-26', '2021-12-04', '2021-12-06', '2021-12-11', '2021-12-19', \n",
    "                   '2021-12-26', '2021-12-29', '2021-12-31']\n",
    "\n",
    "dates_list_2022 = ['2022-01-03', '2022-01-18', '2022-02-04', '2022-02-14', '2022-02-27', '2022-03-09', '2022-03-14', '2022-03-24',  \n",
    "                   '2022-03-26', '2022-03-29', '2022-04-03', '2022-04-08', '2022-04-10', '2022-04-20', '2022-05-03', '2022-05-05', \n",
    "                   '2022-05-08', '2022-05-18', '2022-06-22', '2022-07-04', '2022-07-07', '2022-07-12', '2022-07-14', '2022-07-29', \n",
    "                   '2022-08-03', '2022-08-06', '2022-08-08', '2022-08-11', '2022-08-16', '2022-08-23', '2022-09-17', '2022-09-20', \n",
    "                   '2022-09-27', '2022-10-02', '2022-10-10', '2022-10-25', '2022-10-30', '2022-11-01', '2022-11-06', '2022-11-16', \n",
    "                   '2022-11-21', '2022-12-06', '2022-12-14', '2022-12-21', '2022-12-24', '2022-12-31']\n",
    "\n",
    "dates_list_2023 = ['2023-01-03', '2023-01-08', '2023-01-18', '2023-01-20', '2023-01-25', '2023-01-28', '2023-01-30', '2023-03-04',  \n",
    "                   '2023-03-06', '2023-03-09', '2023-03-14', '2023-03-16', '2023-03-26', '2023-04-03', '2023-04-28', '2023-04-30',\n",
    "                   '2023-05-13', '2023-05-15', '2023-05-25', '2023-05-28', '2023-05-30']\n",
    "\n",
    "\n",
    "for d in dates_list_2023:\n",
    "    # processed s2 collection\n",
    "    bp.lingang_preprocess(d, \"EPSG:4326\", \"G:/geoserver_data/ndvi_wgs84\", \"G:/geoserver_data/ndvi_gcj02\")\n"
   ]
  }
 ],
 "metadata": {
  "kernelspec": {
   "display_name": "gee",
   "language": "python",
   "name": "python3"
  },
  "language_info": {
   "codemirror_mode": {
    "name": "ipython",
    "version": 3
   },
   "file_extension": ".py",
   "mimetype": "text/x-python",
   "name": "python",
   "nbconvert_exporter": "python",
   "pygments_lexer": "ipython3",
   "version": "3.10.4"
  },
  "orig_nbformat": 4,
  "vscode": {
   "interpreter": {
    "hash": "896a7d79eada75efa10dad6f0d96b47f777beb9d98c3280bc138867997bd1c02"
   }
  }
 },
 "nbformat": 4,
 "nbformat_minor": 2
}
