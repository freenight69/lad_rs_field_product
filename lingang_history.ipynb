{
 "cells": [
  {
   "cell_type": "code",
   "execution_count": 10,
   "metadata": {},
   "outputs": [
    {
     "name": "stdout",
     "output_type": "stream",
     "text": [
      "Downloading image in lingang on 20230103:\n"
     ]
    },
    {
     "data": {
      "application/vnd.jupyter.widget-view+json": {
       "model_id": "1cc0aab824024746bb27da783e037c2e",
       "version_major": 2,
       "version_minor": 0
      },
      "text/plain": [
       "lingang_DT_ZS_20230103.tif: |          | 0.00/643k (raw) [  0.0%] in 00:00 (eta:     ?)"
      ]
     },
     "metadata": {},
     "output_type": "display_data"
    },
    {
     "name": "stdout",
     "output_type": "stream",
     "text": [
      "Downloading image in lingang on 20230108:\n"
     ]
    },
    {
     "data": {
      "application/vnd.jupyter.widget-view+json": {
       "model_id": "7fe126e65418495482da1815c7251973",
       "version_major": 2,
       "version_minor": 0
      },
      "text/plain": [
       "lingang_DT_ZS_20230108.tif: |          | 0.00/643k (raw) [  0.0%] in 00:00 (eta:     ?)"
      ]
     },
     "metadata": {},
     "output_type": "display_data"
    },
    {
     "name": "stdout",
     "output_type": "stream",
     "text": [
      "Downloading image in lingang on 20230118:\n"
     ]
    },
    {
     "data": {
      "application/vnd.jupyter.widget-view+json": {
       "model_id": "1027ed57b55d4193b872818f8183e6c3",
       "version_major": 2,
       "version_minor": 0
      },
      "text/plain": [
       "lingang_DT_ZS_20230118.tif: |          | 0.00/643k (raw) [  0.0%] in 00:00 (eta:     ?)"
      ]
     },
     "metadata": {},
     "output_type": "display_data"
    },
    {
     "name": "stdout",
     "output_type": "stream",
     "text": [
      "Downloading image in lingang on 20230120:\n"
     ]
    },
    {
     "data": {
      "application/vnd.jupyter.widget-view+json": {
       "model_id": "7c91efade975406898d15bfda2400fb3",
       "version_major": 2,
       "version_minor": 0
      },
      "text/plain": [
       "lingang_DT_ZS_20230120.tif: |          | 0.00/643k (raw) [  0.0%] in 00:00 (eta:     ?)"
      ]
     },
     "metadata": {},
     "output_type": "display_data"
    },
    {
     "name": "stdout",
     "output_type": "stream",
     "text": [
      "Downloading image in lingang on 20230125:\n"
     ]
    },
    {
     "data": {
      "application/vnd.jupyter.widget-view+json": {
       "model_id": "36b343d9ed8042049495f85bc86d2473",
       "version_major": 2,
       "version_minor": 0
      },
      "text/plain": [
       "lingang_DT_ZS_20230125.tif: |          | 0.00/643k (raw) [  0.0%] in 00:00 (eta:     ?)"
      ]
     },
     "metadata": {},
     "output_type": "display_data"
    },
    {
     "name": "stdout",
     "output_type": "stream",
     "text": [
      "Downloading image in lingang on 20230128:\n"
     ]
    },
    {
     "data": {
      "application/vnd.jupyter.widget-view+json": {
       "model_id": "b53fc2c98c5c42399bec0db173579880",
       "version_major": 2,
       "version_minor": 0
      },
      "text/plain": [
       "lingang_DT_ZS_20230128.tif: |          | 0.00/643k (raw) [  0.0%] in 00:00 (eta:     ?)"
      ]
     },
     "metadata": {},
     "output_type": "display_data"
    },
    {
     "name": "stdout",
     "output_type": "stream",
     "text": [
      "Downloading image in lingang on 20230130:\n"
     ]
    },
    {
     "data": {
      "application/vnd.jupyter.widget-view+json": {
       "model_id": "21403685e14143cbb4c6a582bc812ac3",
       "version_major": 2,
       "version_minor": 0
      },
      "text/plain": [
       "lingang_DT_ZS_20230130.tif: |          | 0.00/643k (raw) [  0.0%] in 00:00 (eta:     ?)"
      ]
     },
     "metadata": {},
     "output_type": "display_data"
    },
    {
     "name": "stdout",
     "output_type": "stream",
     "text": [
      "Downloading image in lingang on 20230304:\n"
     ]
    },
    {
     "data": {
      "application/vnd.jupyter.widget-view+json": {
       "model_id": "3305ae1fc5854a3ea6b8528b75ce9083",
       "version_major": 2,
       "version_minor": 0
      },
      "text/plain": [
       "lingang_DT_ZS_20230304.tif: |          | 0.00/643k (raw) [  0.0%] in 00:00 (eta:     ?)"
      ]
     },
     "metadata": {},
     "output_type": "display_data"
    },
    {
     "name": "stdout",
     "output_type": "stream",
     "text": [
      "Downloading image in lingang on 20230306:\n"
     ]
    },
    {
     "data": {
      "application/vnd.jupyter.widget-view+json": {
       "model_id": "c906ce76fcd6435d9a504921e3ea9b71",
       "version_major": 2,
       "version_minor": 0
      },
      "text/plain": [
       "lingang_DT_ZS_20230306.tif: |          | 0.00/643k (raw) [  0.0%] in 00:00 (eta:     ?)"
      ]
     },
     "metadata": {},
     "output_type": "display_data"
    },
    {
     "name": "stdout",
     "output_type": "stream",
     "text": [
      "Downloading image in lingang on 20230309:\n"
     ]
    },
    {
     "data": {
      "application/vnd.jupyter.widget-view+json": {
       "model_id": "d3d4b73d56564b71adf4f8130f469a43",
       "version_major": 2,
       "version_minor": 0
      },
      "text/plain": [
       "lingang_DT_ZS_20230309.tif: |          | 0.00/643k (raw) [  0.0%] in 00:00 (eta:     ?)"
      ]
     },
     "metadata": {},
     "output_type": "display_data"
    },
    {
     "name": "stdout",
     "output_type": "stream",
     "text": [
      "Downloading image in lingang on 20230314:\n"
     ]
    },
    {
     "data": {
      "application/vnd.jupyter.widget-view+json": {
       "model_id": "8f0a0753bc6148fa8abe62df72f76955",
       "version_major": 2,
       "version_minor": 0
      },
      "text/plain": [
       "lingang_DT_ZS_20230314.tif: |          | 0.00/643k (raw) [  0.0%] in 00:00 (eta:     ?)"
      ]
     },
     "metadata": {},
     "output_type": "display_data"
    },
    {
     "name": "stdout",
     "output_type": "stream",
     "text": [
      "Downloading image in lingang on 20230316:\n"
     ]
    },
    {
     "data": {
      "application/vnd.jupyter.widget-view+json": {
       "model_id": "d599e13da34c45b2b79ca73e51028df2",
       "version_major": 2,
       "version_minor": 0
      },
      "text/plain": [
       "lingang_DT_ZS_20230316.tif: |          | 0.00/643k (raw) [  0.0%] in 00:00 (eta:     ?)"
      ]
     },
     "metadata": {},
     "output_type": "display_data"
    },
    {
     "name": "stdout",
     "output_type": "stream",
     "text": [
      "Downloading image in lingang on 20230326:\n"
     ]
    },
    {
     "data": {
      "application/vnd.jupyter.widget-view+json": {
       "model_id": "6cd96e8e7e8344309b43c910af75b7cf",
       "version_major": 2,
       "version_minor": 0
      },
      "text/plain": [
       "lingang_DT_ZS_20230326.tif: |          | 0.00/643k (raw) [  0.0%] in 00:00 (eta:     ?)"
      ]
     },
     "metadata": {},
     "output_type": "display_data"
    },
    {
     "name": "stdout",
     "output_type": "stream",
     "text": [
      "Downloading image in lingang on 20230403:\n"
     ]
    },
    {
     "data": {
      "application/vnd.jupyter.widget-view+json": {
       "model_id": "88504513d2fa42e6b6527a758ad9e10e",
       "version_major": 2,
       "version_minor": 0
      },
      "text/plain": [
       "lingang_DT_ZS_20230403.tif: |          | 0.00/643k (raw) [  0.0%] in 00:00 (eta:     ?)"
      ]
     },
     "metadata": {},
     "output_type": "display_data"
    }
   ],
   "source": [
    "#!/usr/bin/env python\n",
    "# -*- coding: utf-8 -*-\n",
    "\"\"\"\n",
    "File: s2_test.py\n",
    "Version: v1.0\n",
    "Date: 2023-02-09\n",
    "Authors: Chen G.\n",
    "Description: This script creates downloading and processing Sentinel-2 images based on Google Earth Engine.\n",
    "License: This code is distributed under the MIT License.\n",
    "\n",
    "    Parameter:\n",
    "        START_DATE: The earliest date to include images for (inclusive).\n",
    "        END_DATE: The latest date to include images for (exclusive).\n",
    "        BANDS: The Sentinel-2 image bands to select for processing.\n",
    "        ROI: The boundry to select for processing.\n",
    "        MAX_CLOUD_PROBABILITY: (Optional) cloud cover percentage to apply s2 image collection filter.\n",
    "        CAL_NDVI: (Optional) calculate the Normalized Difference Vegetation Index (NDVI) from multiband s2 images.\n",
    "        CAL_NDMI: (Optional) calculate the Normalized Difference Moisture Index (NDMI) from multiband s2 images.\n",
    "        CLIP_TO_ROI: (Optional) clip the processed image to the region of interest.\n",
    "        SAVE_ASSETS : (Optional) exports the processed collection to an asset.\n",
    "        ASSET_ID : (Optional) the user id path to save the assets\n",
    "        SAVE_LOCAL : (Optional) download the processed images to local.\n",
    "        VISUALIZATION : (Optional) convert raw image to RGB image and download the processed images to local.\n",
    "        LOCAL_DIR : (Optional) where to save downloaded images.\n",
    "        \n",
    "    Returns:\n",
    "        An ee.ImageCollection with an analysis ready Sentinel 2 imagery with the cloud masked images and vegetation index band.\n",
    "\n",
    "\n",
    "    \"\"\"\n",
    "\n",
    "import base_process as bp\n",
    "\n",
    "\n",
    "# Query Dates\n",
    "dates_list_2019 = ['2019-01-24', '2019-03-12', '2019-03-15', '2019-03-17', '2019-04-01', '2019-04-06', '2019-04-09', '2019-05-04', \n",
    "                   '2019-05-09', '2019-05-11', '2019-05-24', '2019-06-15', '2019-06-28', '2019-07-23', '2019-07-25', '2019-07-28', \n",
    "                   '2019-07-30', '2019-08-12', '2019-08-14', '2019-08-17', '2019-08-22', '2019-09-11', '2019-09-16', '2019-09-18', \n",
    "                   '2019-09-26', '2019-10-03', '2019-10-31', '2019-11-05', '2019-11-15', '2019-11-17', '2019-11-20', '2019-12-02', \n",
    "                   '2019-12-07', '2019-12-10', '2019-12-12', '2019-12-15', '2019-12-30']\n",
    "\n",
    "dates_list_2020 = ['2020-01-06', '2020-01-21', '2020-01-29', '2020-01-31', '2020-02-03', '2020-02-05', '2020-02-10', '2020-02-18', \n",
    "                   '2020-02-20', '2020-02-23', '2020-03-06', '2020-03-14', '2020-03-16', '2020-03-19', '2020-03-21', '2020-03-31', \n",
    "                   '2020-04-05', '2020-04-13', '2020-04-15', '2020-04-23', '2020-04-25', '2020-04-28', '2020-05-03', '2020-05-13',\n",
    "                   '2020-06-07', '2020-08-01', '2020-08-13', '2020-08-16', '2020-08-23', '2020-08-28', '2020-09-05', '2020-09-07', \n",
    "                   '2020-09-25', '2020-10-02', '2020-10-17', '2020-10-20', '2020-10-30', '2020-11-04', '2020-11-06', '2020-11-11', \n",
    "                   '2020-11-29', '2020-12-01', '2020-12-04', '2020-12-09', '2020-12-16', '2020-12-21', '2020-12-31']\n",
    "\n",
    "dates_list_2021 = ['2021-01-08', '2021-01-10', '2021-01-13', '2021-01-15', '2021-01-18', '2021-01-25', '2021-01-30', '2021-02-04', \n",
    "                   '2021-02-19', '2021-02-22', '2021-03-14', '2021-03-29', '2021-04-10', '2021-04-25', '2021-04-30', '2021-05-05', \n",
    "                   '2021-05-10', '2021-05-25', '2021-06-07', '2021-06-24', '2021-07-07', '2021-07-14', '2021-07-22', '2021-08-28', \n",
    "                   '2021-09-20', '2021-09-22', '2021-10-05', '2021-10-10', '2021-10-25', '2021-11-09', '2021-11-11', '2021-11-14', \n",
    "                   '2021-11-16', '2021-11-19', '2021-11-24', '2021-11-26', '2021-12-04', '2021-12-06', '2021-12-11', '2021-12-19', \n",
    "                   '2021-12-26', '2021-12-29', '2021-12-31']\n",
    "\n",
    "dates_list_2022 = ['2022-01-03', '2022-01-18', '2022-02-04', '2022-02-14', '2022-02-27', '2022-03-09', '2022-03-14', '2022-03-24',  \n",
    "                   '2022-03-26', '2022-03-29', '2022-04-03', '2022-04-08', '2022-04-10', '2022-04-20', '2022-05-03', '2022-05-05', \n",
    "                   '2022-05-08', '2022-05-18', '2022-06-22', '2022-07-04', '2022-07-07', '2022-07-12', '2022-07-14', '2022-07-29', \n",
    "                   '2022-08-03', '2022-08-06', '2022-08-08', '2022-08-11', '2022-08-16', '2022-08-23', '2022-09-17', '2022-09-20', \n",
    "                   '2022-09-27', '2022-10-02', '2022-10-10', '2022-10-25', '2022-10-30', '2022-11-01', '2022-11-06', '2022-11-16', \n",
    "                   '2022-11-21', '2022-12-06', '2022-12-14', '2022-12-21', '2022-12-24', '2022-12-31']\n",
    "\n",
    "dates_list_2023 = ['2023-01-03', '2023-01-08', '2023-01-18', '2023-01-20', '2023-01-25', '2023-01-28', '2023-01-30', '2023-03-04',  \n",
    "                   '2023-03-06', '2023-03-09', '2023-03-14', '2023-03-16', '2023-03-26', '2023-04-03']\n",
    "\n",
    "\n",
    "for d in dates_list_2023:\n",
    "    # processed s2 collection\n",
    "    bp.lingang_preprocess(d, \"EPSG:4326\", \"J:/geoserver_data/ndvi_wgs84\")\n"
   ]
  }
 ],
 "metadata": {
  "kernelspec": {
   "display_name": "gee",
   "language": "python",
   "name": "python3"
  },
  "language_info": {
   "codemirror_mode": {
    "name": "ipython",
    "version": 3
   },
   "file_extension": ".py",
   "mimetype": "text/x-python",
   "name": "python",
   "nbconvert_exporter": "python",
   "pygments_lexer": "ipython3",
   "version": "3.10.4"
  },
  "orig_nbformat": 4,
  "vscode": {
   "interpreter": {
    "hash": "896a7d79eada75efa10dad6f0d96b47f777beb9d98c3280bc138867997bd1c02"
   }
  }
 },
 "nbformat": 4,
 "nbformat_minor": 2
}
