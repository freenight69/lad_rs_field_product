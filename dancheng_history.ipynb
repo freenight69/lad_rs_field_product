{
 "cells": [
  {
   "cell_type": "code",
   "execution_count": 5,
   "metadata": {},
   "outputs": [
    {
     "name": "stdout",
     "output_type": "stream",
     "text": [
      "Downloading image in dancheng on 20181229:\n"
     ]
    },
    {
     "data": {
      "application/vnd.jupyter.widget-view+json": {
       "model_id": "29ffee074ad94a5091094162a806f70e",
       "version_major": 2,
       "version_minor": 0
      },
      "text/plain": [
       "dancheng_DT_ZS_20181229.tif: |          | 0.00/890k (raw) [  0.0%] in 00:00 (eta:     ?)"
      ]
     },
     "metadata": {},
     "output_type": "display_data"
    },
    {
     "name": "stdout",
     "output_type": "stream",
     "text": [
      "Downloading image in dancheng on 20181231:\n"
     ]
    },
    {
     "data": {
      "application/vnd.jupyter.widget-view+json": {
       "model_id": "cfc9d0dd676a49b8b37dc38b9cb11175",
       "version_major": 2,
       "version_minor": 0
      },
      "text/plain": [
       "dancheng_DT_ZS_20181231.tif: |          | 0.00/890k (raw) [  0.0%] in 00:00 (eta:     ?)"
      ]
     },
     "metadata": {},
     "output_type": "display_data"
    },
    {
     "name": "stdout",
     "output_type": "stream",
     "text": [
      "Downloading image in dancheng on 20190123:\n"
     ]
    },
    {
     "data": {
      "application/vnd.jupyter.widget-view+json": {
       "model_id": "f796ba1c2f7b4c21a980a863d4120fd5",
       "version_major": 2,
       "version_minor": 0
      },
      "text/plain": [
       "dancheng_DT_ZS_20190123.tif: |          | 0.00/890k (raw) [  0.0%] in 00:00 (eta:     ?)"
      ]
     },
     "metadata": {},
     "output_type": "display_data"
    },
    {
     "name": "stdout",
     "output_type": "stream",
     "text": [
      "Downloading image in dancheng on 20190311:\n"
     ]
    },
    {
     "data": {
      "application/vnd.jupyter.widget-view+json": {
       "model_id": "a1134755ac284376b2fa28f0b7120793",
       "version_major": 2,
       "version_minor": 0
      },
      "text/plain": [
       "dancheng_DT_ZS_20190311.tif: |          | 0.00/890k (raw) [  0.0%] in 00:00 (eta:     ?)"
      ]
     },
     "metadata": {},
     "output_type": "display_data"
    },
    {
     "name": "stdout",
     "output_type": "stream",
     "text": [
      "Downloading image in dancheng on 20190314:\n"
     ]
    },
    {
     "data": {
      "application/vnd.jupyter.widget-view+json": {
       "model_id": "43df147bd54b4d3eac713584ef1f1bc3",
       "version_major": 2,
       "version_minor": 0
      },
      "text/plain": [
       "dancheng_DT_ZS_20190314.tif: |          | 0.00/890k (raw) [  0.0%] in 00:00 (eta:     ?)"
      ]
     },
     "metadata": {},
     "output_type": "display_data"
    },
    {
     "name": "stdout",
     "output_type": "stream",
     "text": [
      "Downloading image in dancheng on 20190331:\n"
     ]
    },
    {
     "data": {
      "application/vnd.jupyter.widget-view+json": {
       "model_id": "7ca5d086a5f2469fb32096218acf8687",
       "version_major": 2,
       "version_minor": 0
      },
      "text/plain": [
       "dancheng_DT_ZS_20190331.tif: |          | 0.00/890k (raw) [  0.0%] in 00:00 (eta:     ?)"
      ]
     },
     "metadata": {},
     "output_type": "display_data"
    },
    {
     "name": "stdout",
     "output_type": "stream",
     "text": [
      "Downloading image in dancheng on 20190413:\n"
     ]
    },
    {
     "data": {
      "application/vnd.jupyter.widget-view+json": {
       "model_id": "53ebfacab7ca48f6b71cc74125b77bf9",
       "version_major": 2,
       "version_minor": 0
      },
      "text/plain": [
       "dancheng_DT_ZS_20190413.tif: |          | 0.00/890k (raw) [  0.0%] in 00:00 (eta:     ?)"
      ]
     },
     "metadata": {},
     "output_type": "display_data"
    },
    {
     "name": "stdout",
     "output_type": "stream",
     "text": [
      "Downloading image in dancheng on 20190418:\n"
     ]
    },
    {
     "data": {
      "application/vnd.jupyter.widget-view+json": {
       "model_id": "4232dde68024412fad81cba6bfffee27",
       "version_major": 2,
       "version_minor": 0
      },
      "text/plain": [
       "dancheng_DT_ZS_20190418.tif: |          | 0.00/890k (raw) [  0.0%] in 00:00 (eta:     ?)"
      ]
     },
     "metadata": {},
     "output_type": "display_data"
    },
    {
     "name": "stdout",
     "output_type": "stream",
     "text": [
      "Downloading image in dancheng on 20190503:\n"
     ]
    },
    {
     "data": {
      "application/vnd.jupyter.widget-view+json": {
       "model_id": "3bb5ec5c9abf4345a4c2b0285db3bc5e",
       "version_major": 2,
       "version_minor": 0
      },
      "text/plain": [
       "dancheng_DT_ZS_20190503.tif: |          | 0.00/890k (raw) [  0.0%] in 00:00 (eta:     ?)"
      ]
     },
     "metadata": {},
     "output_type": "display_data"
    },
    {
     "name": "stdout",
     "output_type": "stream",
     "text": [
      "Downloading image in dancheng on 20190510:\n"
     ]
    },
    {
     "data": {
      "application/vnd.jupyter.widget-view+json": {
       "model_id": "49102c9174cb4121a2ba785c8571361e",
       "version_major": 2,
       "version_minor": 0
      },
      "text/plain": [
       "dancheng_DT_ZS_20190510.tif: |          | 0.00/890k (raw) [  0.0%] in 00:00 (eta:     ?)"
      ]
     },
     "metadata": {},
     "output_type": "display_data"
    },
    {
     "name": "stdout",
     "output_type": "stream",
     "text": [
      "Downloading image in dancheng on 20190523:\n"
     ]
    },
    {
     "data": {
      "application/vnd.jupyter.widget-view+json": {
       "model_id": "b1fd2dd9186a4b7e8263980a53e97c08",
       "version_major": 2,
       "version_minor": 0
      },
      "text/plain": [
       "dancheng_DT_ZS_20190523.tif: |          | 0.00/890k (raw) [  0.0%] in 00:00 (eta:     ?)"
      ]
     },
     "metadata": {},
     "output_type": "display_data"
    },
    {
     "name": "stdout",
     "output_type": "stream",
     "text": [
      "Downloading image in dancheng on 20190602:\n"
     ]
    },
    {
     "data": {
      "application/vnd.jupyter.widget-view+json": {
       "model_id": "47783d76c1d94d06bea2965c05d40ec4",
       "version_major": 2,
       "version_minor": 0
      },
      "text/plain": [
       "dancheng_DT_ZS_20190602.tif: |          | 0.00/890k (raw) [  0.0%] in 00:00 (eta:     ?)"
      ]
     },
     "metadata": {},
     "output_type": "display_data"
    },
    {
     "name": "stdout",
     "output_type": "stream",
     "text": [
      "Downloading image in dancheng on 20190604:\n"
     ]
    },
    {
     "data": {
      "application/vnd.jupyter.widget-view+json": {
       "model_id": "e1d2c2efcc054768886f82255dc3c71e",
       "version_major": 2,
       "version_minor": 0
      },
      "text/plain": [
       "dancheng_DT_ZS_20190604.tif: |          | 0.00/890k (raw) [  0.0%] in 00:00 (eta:     ?)"
      ]
     },
     "metadata": {},
     "output_type": "display_data"
    },
    {
     "name": "stdout",
     "output_type": "stream",
     "text": [
      "Downloading image in dancheng on 20190607:\n"
     ]
    },
    {
     "data": {
      "application/vnd.jupyter.widget-view+json": {
       "model_id": "d7eed97c29c24c9a8ad78f7520e4eee1",
       "version_major": 2,
       "version_minor": 0
      },
      "text/plain": [
       "dancheng_DT_ZS_20190607.tif: |          | 0.00/890k (raw) [  0.0%] in 00:00 (eta:     ?)"
      ]
     },
     "metadata": {},
     "output_type": "display_data"
    },
    {
     "name": "stdout",
     "output_type": "stream",
     "text": [
      "Downloading image in dancheng on 20190609:\n"
     ]
    },
    {
     "data": {
      "application/vnd.jupyter.widget-view+json": {
       "model_id": "cdd9920913e64a6db16ac403640a24b0",
       "version_major": 2,
       "version_minor": 0
      },
      "text/plain": [
       "dancheng_DT_ZS_20190609.tif: |          | 0.00/890k (raw) [  0.0%] in 00:00 (eta:     ?)"
      ]
     },
     "metadata": {},
     "output_type": "display_data"
    },
    {
     "name": "stdout",
     "output_type": "stream",
     "text": [
      "Downloading image in dancheng on 20190612:\n"
     ]
    },
    {
     "data": {
      "application/vnd.jupyter.widget-view+json": {
       "model_id": "a680521599d141969e901c6b00f1bc97",
       "version_major": 2,
       "version_minor": 0
      },
      "text/plain": [
       "dancheng_DT_ZS_20190612.tif: |          | 0.00/890k (raw) [  0.0%] in 00:00 (eta:     ?)"
      ]
     },
     "metadata": {},
     "output_type": "display_data"
    },
    {
     "name": "stdout",
     "output_type": "stream",
     "text": [
      "Downloading image in dancheng on 20190614:\n"
     ]
    },
    {
     "data": {
      "application/vnd.jupyter.widget-view+json": {
       "model_id": "090cb804a8a24e62b4794a5625e42bfa",
       "version_major": 2,
       "version_minor": 0
      },
      "text/plain": [
       "dancheng_DT_ZS_20190614.tif: |          | 0.00/890k (raw) [  0.0%] in 00:00 (eta:     ?)"
      ]
     },
     "metadata": {},
     "output_type": "display_data"
    },
    {
     "name": "stdout",
     "output_type": "stream",
     "text": [
      "Downloading image in dancheng on 20190622:\n"
     ]
    },
    {
     "data": {
      "application/vnd.jupyter.widget-view+json": {
       "model_id": "15bc753eff00413ba65d96aedef31f77",
       "version_major": 2,
       "version_minor": 0
      },
      "text/plain": [
       "dancheng_DT_ZS_20190622.tif: |          | 0.00/890k (raw) [  0.0%] in 00:00 (eta:     ?)"
      ]
     },
     "metadata": {},
     "output_type": "display_data"
    },
    {
     "name": "stdout",
     "output_type": "stream",
     "text": [
      "Downloading image in dancheng on 20190624:\n"
     ]
    },
    {
     "data": {
      "application/vnd.jupyter.widget-view+json": {
       "model_id": "f5a6ca7d167741a181a8dc1e8fca942b",
       "version_major": 2,
       "version_minor": 0
      },
      "text/plain": [
       "dancheng_DT_ZS_20190624.tif: |          | 0.00/890k (raw) [  0.0%] in 00:00 (eta:     ?)"
      ]
     },
     "metadata": {},
     "output_type": "display_data"
    },
    {
     "name": "stdout",
     "output_type": "stream",
     "text": [
      "Downloading image in dancheng on 20190627:\n"
     ]
    },
    {
     "data": {
      "application/vnd.jupyter.widget-view+json": {
       "model_id": "3ec43bdfa09444dfa0a3c5649e594861",
       "version_major": 2,
       "version_minor": 0
      },
      "text/plain": [
       "dancheng_DT_ZS_20190627.tif: |          | 0.00/890k (raw) [  0.0%] in 00:00 (eta:     ?)"
      ]
     },
     "metadata": {},
     "output_type": "display_data"
    },
    {
     "name": "stdout",
     "output_type": "stream",
     "text": [
      "Downloading image in dancheng on 20190702:\n"
     ]
    },
    {
     "data": {
      "application/vnd.jupyter.widget-view+json": {
       "model_id": "4160cbe021d04afa9fdd74eadbcecd54",
       "version_major": 2,
       "version_minor": 0
      },
      "text/plain": [
       "dancheng_DT_ZS_20190702.tif: |          | 0.00/890k (raw) [  0.0%] in 00:00 (eta:     ?)"
      ]
     },
     "metadata": {},
     "output_type": "display_data"
    },
    {
     "name": "stdout",
     "output_type": "stream",
     "text": [
      "Downloading image in dancheng on 20190707:\n"
     ]
    },
    {
     "data": {
      "application/vnd.jupyter.widget-view+json": {
       "model_id": "2e2c00926ea14660a92565a024a257f7",
       "version_major": 2,
       "version_minor": 0
      },
      "text/plain": [
       "dancheng_DT_ZS_20190707.tif: |          | 0.00/890k (raw) [  0.0%] in 00:00 (eta:     ?)"
      ]
     },
     "metadata": {},
     "output_type": "display_data"
    },
    {
     "name": "stdout",
     "output_type": "stream",
     "text": [
      "Downloading image in dancheng on 20190714:\n"
     ]
    },
    {
     "data": {
      "application/vnd.jupyter.widget-view+json": {
       "model_id": "42ee7fe66db74748b6130a6a12f8403f",
       "version_major": 2,
       "version_minor": 0
      },
      "text/plain": [
       "dancheng_DT_ZS_20190714.tif: |          | 0.00/890k (raw) [  0.0%] in 00:00 (eta:     ?)"
      ]
     },
     "metadata": {},
     "output_type": "display_data"
    },
    {
     "name": "stdout",
     "output_type": "stream",
     "text": [
      "Downloading image in dancheng on 20190727:\n"
     ]
    },
    {
     "data": {
      "application/vnd.jupyter.widget-view+json": {
       "model_id": "b635a01ab51e4b839e8ff24274f9c646",
       "version_major": 2,
       "version_minor": 0
      },
      "text/plain": [
       "dancheng_DT_ZS_20190727.tif: |          | 0.00/890k (raw) [  0.0%] in 00:00 (eta:     ?)"
      ]
     },
     "metadata": {},
     "output_type": "display_data"
    },
    {
     "name": "stdout",
     "output_type": "stream",
     "text": [
      "Downloading image in dancheng on 20190729:\n"
     ]
    },
    {
     "data": {
      "application/vnd.jupyter.widget-view+json": {
       "model_id": "2098b6153370460e8f3f332d91663276",
       "version_major": 2,
       "version_minor": 0
      },
      "text/plain": [
       "dancheng_DT_ZS_20190729.tif: |          | 0.00/890k (raw) [  0.0%] in 00:00 (eta:     ?)"
      ]
     },
     "metadata": {},
     "output_type": "display_data"
    },
    {
     "name": "stdout",
     "output_type": "stream",
     "text": [
      "Downloading image in dancheng on 20190801:\n"
     ]
    },
    {
     "data": {
      "application/vnd.jupyter.widget-view+json": {
       "model_id": "bf7b3fba6f7b4c0ba85e417be84648a1",
       "version_major": 2,
       "version_minor": 0
      },
      "text/plain": [
       "dancheng_DT_ZS_20190801.tif: |          | 0.00/890k (raw) [  0.0%] in 00:00 (eta:     ?)"
      ]
     },
     "metadata": {},
     "output_type": "display_data"
    },
    {
     "name": "stdout",
     "output_type": "stream",
     "text": [
      "Downloading image in dancheng on 20190806:\n"
     ]
    },
    {
     "data": {
      "application/vnd.jupyter.widget-view+json": {
       "model_id": "82a509a8aae84f48b81c23f2cc585c87",
       "version_major": 2,
       "version_minor": 0
      },
      "text/plain": [
       "dancheng_DT_ZS_20190806.tif: |          | 0.00/890k (raw) [  0.0%] in 00:00 (eta:     ?)"
      ]
     },
     "metadata": {},
     "output_type": "display_data"
    },
    {
     "name": "stdout",
     "output_type": "stream",
     "text": [
      "Downloading image in dancheng on 20190816:\n"
     ]
    },
    {
     "data": {
      "application/vnd.jupyter.widget-view+json": {
       "model_id": "d2e27d6cf71844b9a18d7210f929857c",
       "version_major": 2,
       "version_minor": 0
      },
      "text/plain": [
       "dancheng_DT_ZS_20190816.tif: |          | 0.00/890k (raw) [  0.0%] in 00:00 (eta:     ?)"
      ]
     },
     "metadata": {},
     "output_type": "display_data"
    },
    {
     "name": "stdout",
     "output_type": "stream",
     "text": [
      "Downloading image in dancheng on 20190818:\n"
     ]
    },
    {
     "data": {
      "application/vnd.jupyter.widget-view+json": {
       "model_id": "751a127d17a741dda6e9e5299b895832",
       "version_major": 2,
       "version_minor": 0
      },
      "text/plain": [
       "dancheng_DT_ZS_20190818.tif: |          | 0.00/890k (raw) [  0.0%] in 00:00 (eta:     ?)"
      ]
     },
     "metadata": {},
     "output_type": "display_data"
    },
    {
     "name": "stdout",
     "output_type": "stream",
     "text": [
      "Downloading image in dancheng on 20190823:\n"
     ]
    },
    {
     "data": {
      "application/vnd.jupyter.widget-view+json": {
       "model_id": "75d6111494174ed58f7c08727a371614",
       "version_major": 2,
       "version_minor": 0
      },
      "text/plain": [
       "dancheng_DT_ZS_20190823.tif: |          | 0.00/890k (raw) [  0.0%] in 00:00 (eta:     ?)"
      ]
     },
     "metadata": {},
     "output_type": "display_data"
    },
    {
     "name": "stdout",
     "output_type": "stream",
     "text": [
      "Downloading image in dancheng on 20190828:\n"
     ]
    },
    {
     "data": {
      "application/vnd.jupyter.widget-view+json": {
       "model_id": "88d78638ad7941da83a6af3aa70e8bcd",
       "version_major": 2,
       "version_minor": 0
      },
      "text/plain": [
       "dancheng_DT_ZS_20190828.tif: |          | 0.00/890k (raw) [  0.0%] in 00:00 (eta:     ?)"
      ]
     },
     "metadata": {},
     "output_type": "display_data"
    },
    {
     "name": "stdout",
     "output_type": "stream",
     "text": [
      "Downloading image in dancheng on 20190831:\n"
     ]
    },
    {
     "data": {
      "application/vnd.jupyter.widget-view+json": {
       "model_id": "14d7b10fc1ee4333b166955da35e85c8",
       "version_major": 2,
       "version_minor": 0
      },
      "text/plain": [
       "dancheng_DT_ZS_20190831.tif: |          | 0.00/890k (raw) [  0.0%] in 00:00 (eta:     ?)"
      ]
     },
     "metadata": {},
     "output_type": "display_data"
    },
    {
     "name": "stdout",
     "output_type": "stream",
     "text": [
      "Downloading image in dancheng on 20190905:\n"
     ]
    },
    {
     "data": {
      "application/vnd.jupyter.widget-view+json": {
       "model_id": "7edc7364dd6345929d78e762a5c4b98c",
       "version_major": 2,
       "version_minor": 0
      },
      "text/plain": [
       "dancheng_DT_ZS_20190905.tif: |          | 0.00/890k (raw) [  0.0%] in 00:00 (eta:     ?)"
      ]
     },
     "metadata": {},
     "output_type": "display_data"
    },
    {
     "name": "stdout",
     "output_type": "stream",
     "text": [
      "Downloading image in dancheng on 20190907:\n"
     ]
    },
    {
     "data": {
      "application/vnd.jupyter.widget-view+json": {
       "model_id": "79a9d04aad664fda9d10c722f329ccb4",
       "version_major": 2,
       "version_minor": 0
      },
      "text/plain": [
       "dancheng_DT_ZS_20190907.tif: |          | 0.00/890k (raw) [  0.0%] in 00:00 (eta:     ?)"
      ]
     },
     "metadata": {},
     "output_type": "display_data"
    },
    {
     "name": "stdout",
     "output_type": "stream",
     "text": [
      "Downloading image in dancheng on 20190920:\n"
     ]
    },
    {
     "data": {
      "application/vnd.jupyter.widget-view+json": {
       "model_id": "c1a56c261ba640a8a275c3b0c765262d",
       "version_major": 2,
       "version_minor": 0
      },
      "text/plain": [
       "dancheng_DT_ZS_20190920.tif: |          | 0.00/890k (raw) [  0.0%] in 00:00 (eta:     ?)"
      ]
     },
     "metadata": {},
     "output_type": "display_data"
    },
    {
     "name": "stdout",
     "output_type": "stream",
     "text": [
      "Downloading image in dancheng on 20190922:\n"
     ]
    },
    {
     "data": {
      "application/vnd.jupyter.widget-view+json": {
       "model_id": "49ea8fa3442241f99c4f9bc4b75b46dd",
       "version_major": 2,
       "version_minor": 0
      },
      "text/plain": [
       "dancheng_DT_ZS_20190922.tif: |          | 0.00/890k (raw) [  0.0%] in 00:00 (eta:     ?)"
      ]
     },
     "metadata": {},
     "output_type": "display_data"
    },
    {
     "name": "stdout",
     "output_type": "stream",
     "text": [
      "Downloading image in dancheng on 20190925:\n"
     ]
    },
    {
     "data": {
      "application/vnd.jupyter.widget-view+json": {
       "model_id": "bfa33480eb1c4ce48cec3aff22fb1afc",
       "version_major": 2,
       "version_minor": 0
      },
      "text/plain": [
       "dancheng_DT_ZS_20190925.tif: |          | 0.00/890k (raw) [  0.0%] in 00:00 (eta:     ?)"
      ]
     },
     "metadata": {},
     "output_type": "display_data"
    },
    {
     "name": "stdout",
     "output_type": "stream",
     "text": [
      "Downloading image in dancheng on 20190927:\n"
     ]
    },
    {
     "data": {
      "application/vnd.jupyter.widget-view+json": {
       "model_id": "395e3206dd3247cf96e5c9cba1a0734f",
       "version_major": 2,
       "version_minor": 0
      },
      "text/plain": [
       "dancheng_DT_ZS_20190927.tif: |          | 0.00/890k (raw) [  0.0%] in 00:00 (eta:     ?)"
      ]
     },
     "metadata": {},
     "output_type": "display_data"
    },
    {
     "name": "stdout",
     "output_type": "stream",
     "text": [
      "Downloading image in dancheng on 20190930:\n"
     ]
    },
    {
     "data": {
      "application/vnd.jupyter.widget-view+json": {
       "model_id": "96aff572d1e447acb7e30c201bbe7b1c",
       "version_major": 2,
       "version_minor": 0
      },
      "text/plain": [
       "dancheng_DT_ZS_20190930.tif: |          | 0.00/890k (raw) [  0.0%] in 00:00 (eta:     ?)"
      ]
     },
     "metadata": {},
     "output_type": "display_data"
    },
    {
     "name": "stdout",
     "output_type": "stream",
     "text": [
      "Downloading image in dancheng on 20191002:\n"
     ]
    },
    {
     "data": {
      "application/vnd.jupyter.widget-view+json": {
       "model_id": "5ec9b91a8c6f4e7da6f4d3faff97a5cb",
       "version_major": 2,
       "version_minor": 0
      },
      "text/plain": [
       "dancheng_DT_ZS_20191002.tif: |          | 0.00/890k (raw) [  0.0%] in 00:00 (eta:     ?)"
      ]
     },
     "metadata": {},
     "output_type": "display_data"
    },
    {
     "name": "stdout",
     "output_type": "stream",
     "text": [
      "Downloading image in dancheng on 20191015:\n"
     ]
    },
    {
     "data": {
      "application/vnd.jupyter.widget-view+json": {
       "model_id": "9ce9cacb7caa4932902c0102beb51b67",
       "version_major": 2,
       "version_minor": 0
      },
      "text/plain": [
       "dancheng_DT_ZS_20191015.tif: |          | 0.00/890k (raw) [  0.0%] in 00:00 (eta:     ?)"
      ]
     },
     "metadata": {},
     "output_type": "display_data"
    },
    {
     "name": "stdout",
     "output_type": "stream",
     "text": [
      "Downloading image in dancheng on 20191017:\n"
     ]
    },
    {
     "data": {
      "application/vnd.jupyter.widget-view+json": {
       "model_id": "01176619b6d249619dfc0be294852c78",
       "version_major": 2,
       "version_minor": 0
      },
      "text/plain": [
       "dancheng_DT_ZS_20191017.tif: |          | 0.00/890k (raw) [  0.0%] in 00:00 (eta:     ?)"
      ]
     },
     "metadata": {},
     "output_type": "display_data"
    },
    {
     "name": "stdout",
     "output_type": "stream",
     "text": [
      "Downloading image in dancheng on 20191020:\n"
     ]
    },
    {
     "data": {
      "application/vnd.jupyter.widget-view+json": {
       "model_id": "1efc0533b41a4fe0ae3c1a37c1e7c604",
       "version_major": 2,
       "version_minor": 0
      },
      "text/plain": [
       "dancheng_DT_ZS_20191020.tif: |          | 0.00/890k (raw) [  0.0%] in 00:00 (eta:     ?)"
      ]
     },
     "metadata": {},
     "output_type": "display_data"
    },
    {
     "name": "stdout",
     "output_type": "stream",
     "text": [
      "Downloading image in dancheng on 20191030:\n"
     ]
    },
    {
     "data": {
      "application/vnd.jupyter.widget-view+json": {
       "model_id": "9260be392d2c4565a279f2e06608049c",
       "version_major": 2,
       "version_minor": 0
      },
      "text/plain": [
       "dancheng_DT_ZS_20191030.tif: |          | 0.00/890k (raw) [  0.0%] in 00:00 (eta:     ?)"
      ]
     },
     "metadata": {},
     "output_type": "display_data"
    },
    {
     "name": "stdout",
     "output_type": "stream",
     "text": [
      "Downloading image in dancheng on 20191106:\n"
     ]
    },
    {
     "data": {
      "application/vnd.jupyter.widget-view+json": {
       "model_id": "251067c07c0f4c59a38dcf4d91b4fcc6",
       "version_major": 2,
       "version_minor": 0
      },
      "text/plain": [
       "dancheng_DT_ZS_20191106.tif: |          | 0.00/890k (raw) [  0.0%] in 00:00 (eta:     ?)"
      ]
     },
     "metadata": {},
     "output_type": "display_data"
    },
    {
     "name": "stdout",
     "output_type": "stream",
     "text": [
      "Downloading image in dancheng on 20191111:\n"
     ]
    },
    {
     "data": {
      "application/vnd.jupyter.widget-view+json": {
       "model_id": "4bf4046e20bc40fdb05f95044ab2a108",
       "version_major": 2,
       "version_minor": 0
      },
      "text/plain": [
       "dancheng_DT_ZS_20191111.tif: |          | 0.00/890k (raw) [  0.0%] in 00:00 (eta:     ?)"
      ]
     },
     "metadata": {},
     "output_type": "display_data"
    },
    {
     "name": "stdout",
     "output_type": "stream",
     "text": [
      "Downloading image in dancheng on 20191114:\n"
     ]
    },
    {
     "data": {
      "application/vnd.jupyter.widget-view+json": {
       "model_id": "706f68d19f8f41d594b310e5ae7cb699",
       "version_major": 2,
       "version_minor": 0
      },
      "text/plain": [
       "dancheng_DT_ZS_20191114.tif: |          | 0.00/890k (raw) [  0.0%] in 00:00 (eta:     ?)"
      ]
     },
     "metadata": {},
     "output_type": "display_data"
    },
    {
     "name": "stdout",
     "output_type": "stream",
     "text": [
      "Downloading image in dancheng on 20191116:\n"
     ]
    },
    {
     "data": {
      "application/vnd.jupyter.widget-view+json": {
       "model_id": "c361db31c2c94f7f9e4bd621f3783cc0",
       "version_major": 2,
       "version_minor": 0
      },
      "text/plain": [
       "dancheng_DT_ZS_20191116.tif: |          | 0.00/890k (raw) [  0.0%] in 00:00 (eta:     ?)"
      ]
     },
     "metadata": {},
     "output_type": "display_data"
    },
    {
     "name": "stdout",
     "output_type": "stream",
     "text": [
      "Downloading image in dancheng on 20191119:\n"
     ]
    },
    {
     "data": {
      "application/vnd.jupyter.widget-view+json": {
       "model_id": "f563c973458346e89c8c4f3d65bca887",
       "version_major": 2,
       "version_minor": 0
      },
      "text/plain": [
       "dancheng_DT_ZS_20191119.tif: |          | 0.00/890k (raw) [  0.0%] in 00:00 (eta:     ?)"
      ]
     },
     "metadata": {},
     "output_type": "display_data"
    },
    {
     "name": "stdout",
     "output_type": "stream",
     "text": [
      "Downloading image in dancheng on 20191204:\n"
     ]
    },
    {
     "data": {
      "application/vnd.jupyter.widget-view+json": {
       "model_id": "f79a00fbf1264028b5c0833a9b229d34",
       "version_major": 2,
       "version_minor": 0
      },
      "text/plain": [
       "dancheng_DT_ZS_20191204.tif: |          | 0.00/890k (raw) [  0.0%] in 00:00 (eta:     ?)"
      ]
     },
     "metadata": {},
     "output_type": "display_data"
    },
    {
     "name": "stdout",
     "output_type": "stream",
     "text": [
      "Downloading image in dancheng on 20191209:\n"
     ]
    },
    {
     "data": {
      "application/vnd.jupyter.widget-view+json": {
       "model_id": "2d0cbbd6160a46619e4071528b85af42",
       "version_major": 2,
       "version_minor": 0
      },
      "text/plain": [
       "dancheng_DT_ZS_20191209.tif: |          | 0.00/890k (raw) [  0.0%] in 00:00 (eta:     ?)"
      ]
     },
     "metadata": {},
     "output_type": "display_data"
    },
    {
     "name": "stdout",
     "output_type": "stream",
     "text": [
      "Downloading image in dancheng on 20191229:\n"
     ]
    },
    {
     "data": {
      "application/vnd.jupyter.widget-view+json": {
       "model_id": "964ad942f4f14e5b92772f1ba954d11c",
       "version_major": 2,
       "version_minor": 0
      },
      "text/plain": [
       "dancheng_DT_ZS_20191229.tif: |          | 0.00/890k (raw) [  0.0%] in 00:00 (eta:     ?)"
      ]
     },
     "metadata": {},
     "output_type": "display_data"
    },
    {
     "name": "stdout",
     "output_type": "stream",
     "text": [
      "Downloading image in dancheng on 20191231:\n"
     ]
    },
    {
     "data": {
      "application/vnd.jupyter.widget-view+json": {
       "model_id": "e3b2e9a191d84a908fb3920a15b3391c",
       "version_major": 2,
       "version_minor": 0
      },
      "text/plain": [
       "dancheng_DT_ZS_20191231.tif: |          | 0.00/890k (raw) [  0.0%] in 00:00 (eta:     ?)"
      ]
     },
     "metadata": {},
     "output_type": "display_data"
    }
   ],
   "source": [
    "#!/usr/bin/env python\n",
    "# -*- coding: utf-8 -*-\n",
    "\"\"\"\n",
    "File: s2_test.py\n",
    "Version: v1.0\n",
    "Date: 2023-02-09\n",
    "Authors: Chen G.\n",
    "Description: This script creates downloading and processing Sentinel-2 images based on Google Earth Engine.\n",
    "License: This code is distributed under the MIT License.\n",
    "\n",
    "    Parameter:\n",
    "        START_DATE: The earliest date to include images for (inclusive).\n",
    "        END_DATE: The latest date to include images for (exclusive).\n",
    "        BANDS: The Sentinel-2 image bands to select for processing.\n",
    "        ROI: The boundry to select for processing.\n",
    "        MAX_CLOUD_PROBABILITY: (Optional) cloud cover percentage to apply s2 image collection filter.\n",
    "        CAL_NDVI: (Optional) calculate the Normalized Difference Vegetation Index (NDVI) from multiband s2 images.\n",
    "        CAL_NDMI: (Optional) calculate the Normalized Difference Moisture Index (NDMI) from multiband s2 images.\n",
    "        CLIP_TO_ROI: (Optional) clip the processed image to the region of interest.\n",
    "        SAVE_ASSETS : (Optional) exports the processed collection to an asset.\n",
    "        ASSET_ID : (Optional) the user id path to save the assets\n",
    "        SAVE_LOCAL : (Optional) download the processed images to local.\n",
    "        VISUALIZATION : (Optional) convert raw image to RGB image and download the processed images to local.\n",
    "        LOCAL_DIR : (Optional) where to save downloaded images.\n",
    "        \n",
    "    Returns:\n",
    "        An ee.ImageCollection with an analysis ready Sentinel 2 imagery with the cloud masked images and vegetation index band.\n",
    "\n",
    "\n",
    "    \"\"\"\n",
    "\n",
    "import base_process as bp\n",
    "\n",
    "\n",
    "# Query Dates\n",
    "dates_list_2019 = ['2018-12-29', '2018-12-31', '2019-01-23', '2019-03-11', '2019-03-14', '2019-03-31', '2019-04-13', '2019-04-18', \n",
    "                   '2019-05-03', '2019-05-10', '2019-05-23', '2019-06-02', '2019-06-04', '2019-06-07', '2019-06-09', '2019-06-12', \n",
    "                   '2019-06-14', '2019-06-22', '2019-06-24', '2019-06-27', '2019-07-02', '2019-07-07', '2019-07-14', '2019-07-27', \n",
    "                   '2019-07-29', '2019-08-01', '2019-08-06', '2019-08-16', '2019-08-18', '2019-08-23', '2019-08-28', '2019-08-31', \n",
    "                   '2019-09-05', '2019-09-07', '2019-09-20', '2019-09-22', '2019-09-25', '2019-09-27', '2019-09-30', '2019-10-02', \n",
    "                   '2019-10-15', '2019-10-17', '2019-10-20', '2019-10-30', '2019-11-06', '2019-11-11', '2019-11-14', '2019-11-16', \n",
    "                   '2019-11-19', '2019-12-04', '2019-12-09', '2019-12-29', '2019-12-31']\n",
    "\n",
    "dates_list_2020 = ['2020-01-28', '2020-02-09', '2020-02-12', '2020-02-17', '2020-02-22', '2020-03-15', '2020-03-18', '2020-03-20', \n",
    "                   '2020-03-23', '2020-03-28', '2020-04-07', '2020-04-12', '2020-04-22', '2020-04-27', '2020-04-29', '2020-05-02', \n",
    "                   '2020-05-04', '2020-05-12', '2020-05-17', '2020-05-19', '2020-05-22', '2020-05-27', '2020-06-01', '2020-06-06',\n",
    "                   '2020-06-08', '2020-07-06', '2020-07-08', '2020-08-10', '2020-08-12', '2020-08-15', '2020-08-17', '2020-08-25', \n",
    "                   '2020-08-27', '2020-08-30', '2020-09-01', '2020-09-04', '2020-09-06', '2020-09-11', '2020-09-19', '2020-09-24', \n",
    "                   '2020-09-26', '2020-10-21', '2020-10-24', '2020-10-29', '2020-11-08', '2020-11-10', '2020-11-13', '2020-11-20', \n",
    "                   '2020-12-05', '2020-12-15', '2020-12-30']\n",
    "\n",
    "dates_list_2021 = ['2021-01-02', '2021-01-07', '2021-01-09', '2021-01-12', '2021-01-14', '2021-01-17', '2021-01-19', '2021-02-11', \n",
    "                   '2021-02-16', '2021-02-21', '2021-03-25', '2021-03-28', '2021-04-04', '2021-04-17', '2021-04-19', '2021-04-29', \n",
    "                   '2021-05-02', '2021-05-04', '2021-05-09', '2021-05-22', '2021-05-24', '2021-05-29', '2021-06-06', '2021-06-08', \n",
    "                   '2021-06-11', '2021-06-23', '2021-07-01', '2021-07-08', '2021-07-13', '2021-07-31', '2021-08-17', '2021-08-25', \n",
    "                   '2021-09-11', '2021-09-14', '2021-09-16', '2021-09-21', '2021-09-29', '2021-10-01', '2021-10-04', '2021-10-24', \n",
    "                   '2021-11-05', '2021-11-08', '2021-11-10', '2021-11-13', '2021-11-15', '2021-11-18', '2021-11-23', '2021-11-25', \n",
    "                   '2021-11-30', '2021-12-03', '2021-12-05', '2021-12-18', '2021-12-28', '2021-12-30']\n",
    "\n",
    "dates_list_2022 = ['2022-02-01', '2022-02-03', '2022-02-21', '2022-02-26', '2022-03-03', '2022-03-05', '2022-03-08', '2022-03-18',  \n",
    "                   '2022-03-23', '2022-03-28', '2022-04-02', '2022-04-07', '2022-04-09', '2022-04-17', '2022-04-22', '2022-04-27', \n",
    "                   '2022-05-02', '2022-05-04', '2022-05-17', '2022-05-24', '2022-05-29', '2022-06-01', '2022-06-06', '2022-06-11', \n",
    "                   '2022-06-13', '2022-06-16', '2022-06-18', '2022-06-28', '2022-07-01', '2022-07-08', '2022-07-13', '2022-07-18', \n",
    "                   '2022-07-21', '2022-08-05', '2022-08-07', '2022-08-12', '2022-08-15', '2022-08-20', '2022-09-01', '2022-09-04', \n",
    "                   '2022-09-06', '2022-09-11', '2022-09-19', '2022-09-26', '2022-09-29', '2022-10-09', '2022-10-11', '2022-10-14', \n",
    "                   '2022-10-16', '2022-10-19', '2022-10-21', '2022-10-24', '2022-10-29', '2022-10-31', '2022-11-05', '2022-11-10', \n",
    "                   '2022-11-15', '2022-11-20', '2022-11-25', '2022-12-03', '2022-12-05', '2022-12-18', '2022-12-23', '2022-12-25']\n",
    "\n",
    "dates_list_2023 = ['2023-01-07', '2023-01-24', '2023-01-27', '2023-01-29', '2023-02-03', '2023-02-21', '2023-02-26', '2023-03-03',  \n",
    "                   '2023-03-05', '2023-03-08', '2023-03-10', '2023-03-13', '2023-03-28', '2023-03-30', '2023-04-02', '2023-04-17', \n",
    "                   '2023-04-19']\n",
    "\n",
    "\n",
    "for d in dates_list_2019:\n",
    "    # processed s2 collection\n",
    "    bp.dancheng_preprocess(d, \"EPSG:4326\", \"G:/geoserver_data/ndvi_wgs84\", \"G:/geoserver_data/ndvi_gcj02\")\n"
   ]
  }
 ],
 "metadata": {
  "kernelspec": {
   "display_name": "gee",
   "language": "python",
   "name": "python3"
  },
  "language_info": {
   "codemirror_mode": {
    "name": "ipython",
    "version": 3
   },
   "file_extension": ".py",
   "mimetype": "text/x-python",
   "name": "python",
   "nbconvert_exporter": "python",
   "pygments_lexer": "ipython3",
   "version": "3.10.4"
  },
  "orig_nbformat": 4,
  "vscode": {
   "interpreter": {
    "hash": "896a7d79eada75efa10dad6f0d96b47f777beb9d98c3280bc138867997bd1c02"
   }
  }
 },
 "nbformat": 4,
 "nbformat_minor": 2
}
