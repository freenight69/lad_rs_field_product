{
 "cells": [
  {
   "cell_type": "code",
   "execution_count": 1,
   "metadata": {},
   "outputs": [
    {
     "name": "stdout",
     "output_type": "stream",
     "text": [
      "Downloading image in dancheng on 20230606:\n"
     ]
    },
    {
     "data": {
      "application/vnd.jupyter.widget-view+json": {
       "model_id": "bb17b9e4e06f43a4900da9b70dce6eed",
       "version_major": 2,
       "version_minor": 0
      },
      "text/plain": [
       "dancheng_DT_ZS_20230606.tif: |          | 0.00/890k (raw) [  0.0%] in 00:00 (eta:     ?)"
      ]
     },
     "metadata": {},
     "output_type": "display_data"
    },
    {
     "name": "stderr",
     "output_type": "stream",
     "text": [
      "There is no STAC entry for: None\n"
     ]
    }
   ],
   "source": [
    "#!/usr/bin/env python\n",
    "# -*- coding: utf-8 -*-\n",
    "\"\"\"\n",
    "File: s2_test.py\n",
    "Version: v1.0\n",
    "Date: 2023-02-09\n",
    "Authors: Chen G.\n",
    "Description: This script creates downloading and processing Sentinel-2 images based on Google Earth Engine.\n",
    "License: This code is distributed under the MIT License.\n",
    "\n",
    "    Parameter:\n",
    "        START_DATE: The earliest date to include images for (inclusive).\n",
    "        END_DATE: The latest date to include images for (exclusive).\n",
    "        BANDS: The Sentinel-2 image bands to select for processing.\n",
    "        ROI: The boundry to select for processing.\n",
    "        MAX_CLOUD_PROBABILITY: (Optional) cloud cover percentage to apply s2 image collection filter.\n",
    "        CAL_NDVI: (Optional) calculate the Normalized Difference Vegetation Index (NDVI) from multiband s2 images.\n",
    "        CAL_NDMI: (Optional) calculate the Normalized Difference Moisture Index (NDMI) from multiband s2 images.\n",
    "        CLIP_TO_ROI: (Optional) clip the processed image to the region of interest.\n",
    "        SAVE_ASSETS : (Optional) exports the processed collection to an asset.\n",
    "        ASSET_ID : (Optional) the user id path to save the assets\n",
    "        SAVE_LOCAL : (Optional) download the processed images to local.\n",
    "        VISUALIZATION : (Optional) convert raw image to RGB image and download the processed images to local.\n",
    "        LOCAL_DIR : (Optional) where to save downloaded images.\n",
    "        \n",
    "    Returns:\n",
    "        An ee.ImageCollection with an analysis ready Sentinel 2 imagery with the cloud masked images and vegetation index band.\n",
    "\n",
    "\n",
    "    \"\"\"\n",
    "\n",
    "import base_process as bp\n",
    "\n",
    "\n",
    "# Query Dates\n",
    "dates_list_2019 = ['2018-12-29', '2018-12-31', '2019-01-23', '2019-03-11', '2019-03-14', '2019-03-31', '2019-04-13', '2019-04-18', \n",
    "                   '2019-05-03', '2019-05-10', '2019-05-23', '2019-06-02', '2019-06-04', '2019-06-07', '2019-06-09', '2019-06-12', \n",
    "                   '2019-06-14', '2019-06-22', '2019-06-24', '2019-06-27', '2019-07-02', '2019-07-07', '2019-07-14', '2019-07-27', \n",
    "                   '2019-07-29', '2019-08-01', '2019-08-06', '2019-08-16', '2019-08-18', '2019-08-23', '2019-08-28', '2019-08-31', \n",
    "                   '2019-09-05', '2019-09-07', '2019-09-20', '2019-09-22', '2019-09-25', '2019-09-27', '2019-09-30', '2019-10-02', \n",
    "                   '2019-10-15', '2019-10-17', '2019-10-20', '2019-10-30', '2019-11-06', '2019-11-11', '2019-11-14', '2019-11-16', \n",
    "                   '2019-11-19', '2019-12-04', '2019-12-09', '2019-12-29', '2019-12-31']\n",
    "\n",
    "dates_list_2020 = ['2020-01-28', '2020-02-09', '2020-02-12', '2020-02-17', '2020-02-22', '2020-03-15', '2020-03-18', '2020-03-20', \n",
    "                   '2020-03-23', '2020-03-28', '2020-04-07', '2020-04-12', '2020-04-22', '2020-04-27', '2020-04-29', '2020-05-02', \n",
    "                   '2020-05-04', '2020-05-12', '2020-05-17', '2020-05-19', '2020-05-22', '2020-05-27', '2020-06-01', '2020-06-06',\n",
    "                   '2020-06-08', '2020-07-06', '2020-07-08', '2020-08-10', '2020-08-12', '2020-08-15', '2020-08-17', '2020-08-25', \n",
    "                   '2020-08-27', '2020-08-30', '2020-09-01', '2020-09-04', '2020-09-06', '2020-09-11', '2020-09-19', '2020-09-24', \n",
    "                   '2020-09-26', '2020-10-21', '2020-10-24', '2020-10-29', '2020-11-08', '2020-11-10', '2020-11-13', '2020-11-20', \n",
    "                   '2020-12-05', '2020-12-15', '2020-12-30']\n",
    "\n",
    "dates_list_2021 = ['2021-01-02', '2021-01-07', '2021-01-09', '2021-01-12', '2021-01-14', '2021-01-17', '2021-01-19', '2021-02-11', \n",
    "                   '2021-02-16', '2021-02-21', '2021-03-25', '2021-03-28', '2021-04-04', '2021-04-17', '2021-04-19', '2021-04-29', \n",
    "                   '2021-05-02', '2021-05-04', '2021-05-09', '2021-05-22', '2021-05-24', '2021-05-29', '2021-06-06', '2021-06-08', \n",
    "                   '2021-06-11', '2021-06-23', '2021-07-01', '2021-07-08', '2021-07-13', '2021-07-31', '2021-08-17', '2021-08-25', \n",
    "                   '2021-09-11', '2021-09-14', '2021-09-16', '2021-09-21', '2021-09-29', '2021-10-01', '2021-10-04', '2021-10-24', \n",
    "                   '2021-11-05', '2021-11-08', '2021-11-10', '2021-11-13', '2021-11-15', '2021-11-18', '2021-11-23', '2021-11-25', \n",
    "                   '2021-11-30', '2021-12-03', '2021-12-05', '2021-12-18', '2021-12-28', '2021-12-30']\n",
    "\n",
    "dates_list_2022 = ['2022-02-01', '2022-02-03', '2022-02-21', '2022-02-26', '2022-03-03', '2022-03-05', '2022-03-08', '2022-03-18',  \n",
    "                   '2022-03-23', '2022-03-28', '2022-04-02', '2022-04-07', '2022-04-09', '2022-04-17', '2022-04-22', '2022-04-27', \n",
    "                   '2022-05-02', '2022-05-04', '2022-05-17', '2022-05-24', '2022-05-29', '2022-06-01', '2022-06-06', '2022-06-11', \n",
    "                   '2022-06-13', '2022-06-16', '2022-06-18', '2022-06-28', '2022-07-01', '2022-07-08', '2022-07-13', '2022-07-18', \n",
    "                   '2022-07-21', '2022-08-05', '2022-08-07', '2022-08-12', '2022-08-15', '2022-08-20', '2022-09-01', '2022-09-04', \n",
    "                   '2022-09-06', '2022-09-11', '2022-09-19', '2022-09-26', '2022-09-29', '2022-10-09', '2022-10-11', '2022-10-14', \n",
    "                   '2022-10-16', '2022-10-19', '2022-10-21', '2022-10-24', '2022-10-29', '2022-10-31', '2022-11-05', '2022-11-10', \n",
    "                   '2022-11-15', '2022-11-20', '2022-11-25', '2022-12-03', '2022-12-05', '2022-12-18', '2022-12-23', '2022-12-25']\n",
    "\n",
    "dates_list_2023 = ['2023-01-07', '2023-01-24', '2023-01-27', '2023-01-29', '2023-02-03', '2023-02-21', '2023-02-26', '2023-03-03',  \n",
    "                   '2023-03-05', '2023-03-08', '2023-03-10', '2023-03-13', '2023-03-28', '2023-03-30', '2023-04-02', '2023-04-17', \n",
    "                   '2023-04-19', '2023-04-27', '2023-05-07', '2023-05-09', '2023-05-12', '2023-05-14', '2023-05-17']\n",
    "\n",
    "dates_list_temp = ['2023-06-07']\n",
    "\n",
    "\n",
    "for d in dates_list_temp:\n",
    "    # processed s2 collection\n",
    "    bp.dancheng_preprocess(d, \"EPSG:4326\", \"G:/geoserver_data/ndvi_wgs84\", \"G:/geoserver_data/ndvi_gcj02\")\n"
   ]
  }
 ],
 "metadata": {
  "kernelspec": {
   "display_name": "gee",
   "language": "python",
   "name": "python3"
  },
  "language_info": {
   "codemirror_mode": {
    "name": "ipython",
    "version": 3
   },
   "file_extension": ".py",
   "mimetype": "text/x-python",
   "name": "python",
   "nbconvert_exporter": "python",
   "pygments_lexer": "ipython3",
   "version": "3.10.4"
  },
  "orig_nbformat": 4,
  "vscode": {
   "interpreter": {
    "hash": "896a7d79eada75efa10dad6f0d96b47f777beb9d98c3280bc138867997bd1c02"
   }
  }
 },
 "nbformat": 4,
 "nbformat_minor": 2
}
